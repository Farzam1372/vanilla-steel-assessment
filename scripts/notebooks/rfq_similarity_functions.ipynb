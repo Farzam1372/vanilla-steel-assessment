{
 "cells": [
  {
   "cell_type": "markdown",
   "id": "ada7faa4",
   "metadata": {},
   "source": [
    "## Senario B - Task 1"
   ]
  },
  {
   "cell_type": "code",
   "execution_count": null,
   "id": "e6c9d221",
   "metadata": {},
   "outputs": [],
   "source": [
    "# Data manipulation\n",
    "import pandas as pd\n",
    "import numpy as np\n",
    "import re\n",
    "import os\n",
    "import re\n",
    "from pathlib import Path\n",
    "\n",
    "# Warnings filtering.\n",
    "import warnings\n",
    "warnings.filterwarnings('ignore')"
   ]
  },
  {
   "cell_type": "code",
   "execution_count": 67,
   "id": "1ca3293d",
   "metadata": {},
   "outputs": [],
   "source": [
    "rfq_path = (r\"C:\\Users\\black\\vanilla-steel-assessment\\data\\rfq.csv\")\n",
    "ref_path = (r\"C:\\Users\\black\\vanilla-steel-assessment\\data\\reference_properties.tsv\")"
   ]
  },
  {
   "cell_type": "code",
   "execution_count": 68,
   "id": "d1d7dd1c",
   "metadata": {},
   "outputs": [],
   "source": [
    "df_rfq = pd.read_csv(rfq_path)\n",
    "df_ref = pd.read_csv(ref_path, sep=\"\\t\")"
   ]
  },
  {
   "cell_type": "code",
   "execution_count": 69,
   "id": "c26d6a7d",
   "metadata": {},
   "outputs": [
    {
     "data": {
      "application/vnd.microsoft.datawrangler.viewer.v0+json": {
       "columns": [
        {
         "name": "index",
         "rawType": "int64",
         "type": "integer"
        },
        {
         "name": "Grade/Material",
         "rawType": "object",
         "type": "string"
        },
        {
         "name": "UNS_No",
         "rawType": "float64",
         "type": "float"
        },
        {
         "name": "Steel_No",
         "rawType": "float64",
         "type": "float"
        },
        {
         "name": "Standards",
         "rawType": "object",
         "type": "string"
        },
        {
         "name": "Carbon (C)",
         "rawType": "object",
         "type": "string"
        },
        {
         "name": "Manganese (Mn)",
         "rawType": "object",
         "type": "string"
        },
        {
         "name": "Silicon (Si)",
         "rawType": "object",
         "type": "string"
        },
        {
         "name": "Sulfur (S)",
         "rawType": "object",
         "type": "string"
        },
        {
         "name": "Phosphorus (P)",
         "rawType": "object",
         "type": "string"
        },
        {
         "name": "Chromium (Cr)",
         "rawType": "object",
         "type": "unknown"
        },
        {
         "name": "Nickel (Ni)",
         "rawType": "object",
         "type": "unknown"
        },
        {
         "name": "Molybdenum (Mo)",
         "rawType": "object",
         "type": "unknown"
        },
        {
         "name": "Vanadium (V)",
         "rawType": "object",
         "type": "unknown"
        },
        {
         "name": "Tungsten (W)",
         "rawType": "float64",
         "type": "float"
        },
        {
         "name": "Cobalt (Co)",
         "rawType": "float64",
         "type": "float"
        },
        {
         "name": "Copper (Cu)",
         "rawType": "object",
         "type": "unknown"
        },
        {
         "name": "Aluminum (Al)",
         "rawType": "object",
         "type": "unknown"
        },
        {
         "name": "Titanium (Ti)",
         "rawType": "object",
         "type": "unknown"
        },
        {
         "name": "Niobium (Nb)",
         "rawType": "object",
         "type": "unknown"
        },
        {
         "name": "Boron (B)",
         "rawType": "object",
         "type": "unknown"
        },
        {
         "name": "Nitrogen (N)",
         "rawType": "object",
         "type": "string"
        },
        {
         "name": "Tensile strength (Rm)",
         "rawType": "object",
         "type": "string"
        },
        {
         "name": "Yield strength (Re or Rp0.2)",
         "rawType": "object",
         "type": "string"
        },
        {
         "name": "Elongation (A%)",
         "rawType": "object",
         "type": "string"
        },
        {
         "name": "Reduction of area (Z%)",
         "rawType": "float64",
         "type": "float"
        },
        {
         "name": "Hardness (HB, HV, HRC)",
         "rawType": "object",
         "type": "unknown"
        },
        {
         "name": "Impact toughness (Charpy V-notch)",
         "rawType": "object",
         "type": "string"
        },
        {
         "name": "Fatigue limit",
         "rawType": "float64",
         "type": "float"
        },
        {
         "name": "Creep resistance",
         "rawType": "float64",
         "type": "float"
        },
        {
         "name": "Source_Pages",
         "rawType": "object",
         "type": "string"
        },
        {
         "name": "Application",
         "rawType": "object",
         "type": "string"
        },
        {
         "name": "Category",
         "rawType": "object",
         "type": "string"
        },
        {
         "name": "Nb + V + Ti (Others)",
         "rawType": "object",
         "type": "unknown"
        },
        {
         "name": "Coating",
         "rawType": "object",
         "type": "unknown"
        }
       ],
       "ref": "87568b1c-3d56-4513-a262-661754105ef8",
       "rows": [
        [
         "0",
         "S235JR",
         null,
         null,
         "EN 10025-2:2019",
         "≤0.17",
         "≤1.40",
         "≤0.40",
         "≤0.035",
         "≤0.035",
         null,
         null,
         null,
         null,
         null,
         null,
         null,
         null,
         null,
         null,
         null,
         "≤0.012",
         "360-510 MPa",
         "≥235 MPa",
         "≥26%",
         null,
         null,
         "27J at 20°C",
         null,
         null,
         "Standard Specifications",
         "General structural steels",
         "Structural Steel",
         null,
         null
        ],
        [
         "1",
         "S275JR",
         null,
         null,
         "EN 10025-2:2019",
         "≤0.21",
         "≤1.50",
         "≤0.40",
         "≤0.035",
         "≤0.035",
         null,
         null,
         null,
         null,
         null,
         null,
         null,
         null,
         null,
         null,
         null,
         "≤0.012",
         "410-560 MPa",
         "≥275 MPa",
         "≥23%",
         null,
         null,
         "27J at 20°C",
         null,
         null,
         "Standard Specifications",
         "General structural steels",
         "Structural Steel",
         null,
         null
        ],
        [
         "2",
         "S355JR",
         null,
         null,
         "EN 10025-2:2019",
         "≤0.24",
         "≤1.60",
         "≤0.55",
         "≤0.035",
         "≤0.035",
         null,
         null,
         null,
         null,
         null,
         null,
         null,
         null,
         null,
         null,
         null,
         "≤0.012",
         "470-630 MPa",
         "≥355 MPa",
         "≥22%",
         null,
         null,
         "27J at 20°C",
         null,
         null,
         "Standard Specifications",
         "General structural steels",
         "Structural Steel",
         null,
         null
        ]
       ],
       "shape": {
        "columns": 34,
        "rows": 3
       }
      },
      "text/html": [
       "<div>\n",
       "<style scoped>\n",
       "    .dataframe tbody tr th:only-of-type {\n",
       "        vertical-align: middle;\n",
       "    }\n",
       "\n",
       "    .dataframe tbody tr th {\n",
       "        vertical-align: top;\n",
       "    }\n",
       "\n",
       "    .dataframe thead th {\n",
       "        text-align: right;\n",
       "    }\n",
       "</style>\n",
       "<table border=\"1\" class=\"dataframe\">\n",
       "  <thead>\n",
       "    <tr style=\"text-align: right;\">\n",
       "      <th></th>\n",
       "      <th>Grade/Material</th>\n",
       "      <th>UNS_No</th>\n",
       "      <th>Steel_No</th>\n",
       "      <th>Standards</th>\n",
       "      <th>Carbon (C)</th>\n",
       "      <th>Manganese (Mn)</th>\n",
       "      <th>Silicon (Si)</th>\n",
       "      <th>Sulfur (S)</th>\n",
       "      <th>Phosphorus (P)</th>\n",
       "      <th>Chromium (Cr)</th>\n",
       "      <th>...</th>\n",
       "      <th>Reduction of area (Z%)</th>\n",
       "      <th>Hardness (HB, HV, HRC)</th>\n",
       "      <th>Impact toughness (Charpy V-notch)</th>\n",
       "      <th>Fatigue limit</th>\n",
       "      <th>Creep resistance</th>\n",
       "      <th>Source_Pages</th>\n",
       "      <th>Application</th>\n",
       "      <th>Category</th>\n",
       "      <th>Nb + V + Ti (Others)</th>\n",
       "      <th>Coating</th>\n",
       "    </tr>\n",
       "  </thead>\n",
       "  <tbody>\n",
       "    <tr>\n",
       "      <th>0</th>\n",
       "      <td>S235JR</td>\n",
       "      <td>NaN</td>\n",
       "      <td>NaN</td>\n",
       "      <td>EN 10025-2:2019</td>\n",
       "      <td>≤0.17</td>\n",
       "      <td>≤1.40</td>\n",
       "      <td>≤0.40</td>\n",
       "      <td>≤0.035</td>\n",
       "      <td>≤0.035</td>\n",
       "      <td>NaN</td>\n",
       "      <td>...</td>\n",
       "      <td>NaN</td>\n",
       "      <td>NaN</td>\n",
       "      <td>27J at 20°C</td>\n",
       "      <td>NaN</td>\n",
       "      <td>NaN</td>\n",
       "      <td>Standard Specifications</td>\n",
       "      <td>General structural steels</td>\n",
       "      <td>Structural Steel</td>\n",
       "      <td>NaN</td>\n",
       "      <td>NaN</td>\n",
       "    </tr>\n",
       "    <tr>\n",
       "      <th>1</th>\n",
       "      <td>S275JR</td>\n",
       "      <td>NaN</td>\n",
       "      <td>NaN</td>\n",
       "      <td>EN 10025-2:2019</td>\n",
       "      <td>≤0.21</td>\n",
       "      <td>≤1.50</td>\n",
       "      <td>≤0.40</td>\n",
       "      <td>≤0.035</td>\n",
       "      <td>≤0.035</td>\n",
       "      <td>NaN</td>\n",
       "      <td>...</td>\n",
       "      <td>NaN</td>\n",
       "      <td>NaN</td>\n",
       "      <td>27J at 20°C</td>\n",
       "      <td>NaN</td>\n",
       "      <td>NaN</td>\n",
       "      <td>Standard Specifications</td>\n",
       "      <td>General structural steels</td>\n",
       "      <td>Structural Steel</td>\n",
       "      <td>NaN</td>\n",
       "      <td>NaN</td>\n",
       "    </tr>\n",
       "    <tr>\n",
       "      <th>2</th>\n",
       "      <td>S355JR</td>\n",
       "      <td>NaN</td>\n",
       "      <td>NaN</td>\n",
       "      <td>EN 10025-2:2019</td>\n",
       "      <td>≤0.24</td>\n",
       "      <td>≤1.60</td>\n",
       "      <td>≤0.55</td>\n",
       "      <td>≤0.035</td>\n",
       "      <td>≤0.035</td>\n",
       "      <td>NaN</td>\n",
       "      <td>...</td>\n",
       "      <td>NaN</td>\n",
       "      <td>NaN</td>\n",
       "      <td>27J at 20°C</td>\n",
       "      <td>NaN</td>\n",
       "      <td>NaN</td>\n",
       "      <td>Standard Specifications</td>\n",
       "      <td>General structural steels</td>\n",
       "      <td>Structural Steel</td>\n",
       "      <td>NaN</td>\n",
       "      <td>NaN</td>\n",
       "    </tr>\n",
       "  </tbody>\n",
       "</table>\n",
       "<p>3 rows × 34 columns</p>\n",
       "</div>"
      ],
      "text/plain": [
       "  Grade/Material  UNS_No  Steel_No        Standards Carbon (C) Manganese (Mn)  \\\n",
       "0         S235JR     NaN       NaN  EN 10025-2:2019      ≤0.17          ≤1.40   \n",
       "1         S275JR     NaN       NaN  EN 10025-2:2019      ≤0.21          ≤1.50   \n",
       "2         S355JR     NaN       NaN  EN 10025-2:2019      ≤0.24          ≤1.60   \n",
       "\n",
       "  Silicon (Si) Sulfur (S) Phosphorus (P) Chromium (Cr)  ...  \\\n",
       "0        ≤0.40     ≤0.035         ≤0.035           NaN  ...   \n",
       "1        ≤0.40     ≤0.035         ≤0.035           NaN  ...   \n",
       "2        ≤0.55     ≤0.035         ≤0.035           NaN  ...   \n",
       "\n",
       "  Reduction of area (Z%) Hardness (HB, HV, HRC)  \\\n",
       "0                    NaN                    NaN   \n",
       "1                    NaN                    NaN   \n",
       "2                    NaN                    NaN   \n",
       "\n",
       "  Impact toughness (Charpy V-notch)  Fatigue limit  Creep resistance  \\\n",
       "0                       27J at 20°C            NaN               NaN   \n",
       "1                       27J at 20°C            NaN               NaN   \n",
       "2                       27J at 20°C            NaN               NaN   \n",
       "\n",
       "              Source_Pages                Application          Category  \\\n",
       "0  Standard Specifications  General structural steels  Structural Steel   \n",
       "1  Standard Specifications  General structural steels  Structural Steel   \n",
       "2  Standard Specifications  General structural steels  Structural Steel   \n",
       "\n",
       "  Nb + V + Ti (Others) Coating  \n",
       "0                  NaN     NaN  \n",
       "1                  NaN     NaN  \n",
       "2                  NaN     NaN  \n",
       "\n",
       "[3 rows x 34 columns]"
      ]
     },
     "execution_count": 69,
     "metadata": {},
     "output_type": "execute_result"
    }
   ],
   "source": [
    "df_ref.head(3)"
   ]
  },
  {
   "cell_type": "code",
   "execution_count": 70,
   "id": "ce68d467",
   "metadata": {},
   "outputs": [
    {
     "data": {
      "application/vnd.microsoft.datawrangler.viewer.v0+json": {
       "columns": [
        {
         "name": "index",
         "rawType": "int64",
         "type": "integer"
        },
        {
         "name": "id",
         "rawType": "object",
         "type": "string"
        },
        {
         "name": "grade",
         "rawType": "object",
         "type": "string"
        },
        {
         "name": "grade_suffix",
         "rawType": "float64",
         "type": "float"
        },
        {
         "name": "coating",
         "rawType": "object",
         "type": "unknown"
        },
        {
         "name": "finish",
         "rawType": "object",
         "type": "string"
        },
        {
         "name": "surface_type",
         "rawType": "object",
         "type": "unknown"
        },
        {
         "name": "surface_protection",
         "rawType": "object",
         "type": "unknown"
        },
        {
         "name": "form",
         "rawType": "object",
         "type": "string"
        },
        {
         "name": "thickness_min",
         "rawType": "float64",
         "type": "float"
        },
        {
         "name": "thickness_max",
         "rawType": "float64",
         "type": "float"
        },
        {
         "name": "width_min",
         "rawType": "float64",
         "type": "float"
        },
        {
         "name": "width_max",
         "rawType": "float64",
         "type": "float"
        },
        {
         "name": "length_min",
         "rawType": "float64",
         "type": "float"
        },
        {
         "name": "height_min",
         "rawType": "float64",
         "type": "float"
        },
        {
         "name": "height_max",
         "rawType": "float64",
         "type": "float"
        },
        {
         "name": "weight_min",
         "rawType": "float64",
         "type": "float"
        },
        {
         "name": "weight_max",
         "rawType": "float64",
         "type": "float"
        },
        {
         "name": "inner_diameter_min",
         "rawType": "float64",
         "type": "float"
        },
        {
         "name": "inner_diameter_max",
         "rawType": "float64",
         "type": "float"
        },
        {
         "name": "outer_diameter_min",
         "rawType": "float64",
         "type": "float"
        },
        {
         "name": "outer_diameter_max",
         "rawType": "float64",
         "type": "float"
        },
        {
         "name": "yield_strength_min",
         "rawType": "float64",
         "type": "float"
        },
        {
         "name": "yield_strength_max",
         "rawType": "float64",
         "type": "float"
        },
        {
         "name": "tensile_strength_min",
         "rawType": "float64",
         "type": "float"
        },
        {
         "name": "tensile_strength_max",
         "rawType": "float64",
         "type": "float"
        }
       ],
       "ref": "ce4c4812-1112-44c0-b9c8-addd777f9f2f",
       "rows": [
        [
         "0",
         "8aff426d-b8c0-43aa-ad26-835ef4de6129",
         "S700MC",
         null,
         null,
         "Oiled",
         null,
         null,
         "Coils",
         "6.0",
         "6.0",
         "600.0",
         "1520.0",
         null,
         null,
         null,
         "15000.0",
         "25000.0",
         "610.0",
         "610.0",
         null,
         null,
         null,
         null,
         "760.0",
         "810.0"
        ],
        [
         "1",
         "37e624be-b125-464f-85b6-1838530193ef",
         "S250GD",
         null,
         "ZM310",
         "Hot-dip zinc magnesium (+ZM)",
         null,
         null,
         "Slit Coils",
         "1.5",
         "1.5",
         "327.0",
         "327.0",
         null,
         null,
         null,
         null,
         null,
         null,
         null,
         null,
         null,
         null,
         null,
         null,
         null
        ],
        [
         "2",
         "b8257184-6307-46ab-b06e-d979336d1263",
         "DX51D",
         null,
         "Z100",
         "Hot-dip Galvanized (+Z/+GI)",
         null,
         "Lightly Oiled (L)",
         "Coils",
         "0.4",
         "0.4",
         "1000.0",
         "1500.0",
         null,
         null,
         null,
         null,
         null,
         null,
         null,
         null,
         null,
         null,
         null,
         null,
         null
        ]
       ],
       "shape": {
        "columns": 25,
        "rows": 3
       }
      },
      "text/html": [
       "<div>\n",
       "<style scoped>\n",
       "    .dataframe tbody tr th:only-of-type {\n",
       "        vertical-align: middle;\n",
       "    }\n",
       "\n",
       "    .dataframe tbody tr th {\n",
       "        vertical-align: top;\n",
       "    }\n",
       "\n",
       "    .dataframe thead th {\n",
       "        text-align: right;\n",
       "    }\n",
       "</style>\n",
       "<table border=\"1\" class=\"dataframe\">\n",
       "  <thead>\n",
       "    <tr style=\"text-align: right;\">\n",
       "      <th></th>\n",
       "      <th>id</th>\n",
       "      <th>grade</th>\n",
       "      <th>grade_suffix</th>\n",
       "      <th>coating</th>\n",
       "      <th>finish</th>\n",
       "      <th>surface_type</th>\n",
       "      <th>surface_protection</th>\n",
       "      <th>form</th>\n",
       "      <th>thickness_min</th>\n",
       "      <th>thickness_max</th>\n",
       "      <th>...</th>\n",
       "      <th>weight_min</th>\n",
       "      <th>weight_max</th>\n",
       "      <th>inner_diameter_min</th>\n",
       "      <th>inner_diameter_max</th>\n",
       "      <th>outer_diameter_min</th>\n",
       "      <th>outer_diameter_max</th>\n",
       "      <th>yield_strength_min</th>\n",
       "      <th>yield_strength_max</th>\n",
       "      <th>tensile_strength_min</th>\n",
       "      <th>tensile_strength_max</th>\n",
       "    </tr>\n",
       "  </thead>\n",
       "  <tbody>\n",
       "    <tr>\n",
       "      <th>0</th>\n",
       "      <td>8aff426d-b8c0-43aa-ad26-835ef4de6129</td>\n",
       "      <td>S700MC</td>\n",
       "      <td>NaN</td>\n",
       "      <td>NaN</td>\n",
       "      <td>Oiled</td>\n",
       "      <td>NaN</td>\n",
       "      <td>NaN</td>\n",
       "      <td>Coils</td>\n",
       "      <td>6.0</td>\n",
       "      <td>6.0</td>\n",
       "      <td>...</td>\n",
       "      <td>15000.0</td>\n",
       "      <td>25000.0</td>\n",
       "      <td>610.0</td>\n",
       "      <td>610.0</td>\n",
       "      <td>NaN</td>\n",
       "      <td>NaN</td>\n",
       "      <td>NaN</td>\n",
       "      <td>NaN</td>\n",
       "      <td>760.0</td>\n",
       "      <td>810.0</td>\n",
       "    </tr>\n",
       "    <tr>\n",
       "      <th>1</th>\n",
       "      <td>37e624be-b125-464f-85b6-1838530193ef</td>\n",
       "      <td>S250GD</td>\n",
       "      <td>NaN</td>\n",
       "      <td>ZM310</td>\n",
       "      <td>Hot-dip zinc magnesium (+ZM)</td>\n",
       "      <td>NaN</td>\n",
       "      <td>NaN</td>\n",
       "      <td>Slit Coils</td>\n",
       "      <td>1.5</td>\n",
       "      <td>1.5</td>\n",
       "      <td>...</td>\n",
       "      <td>NaN</td>\n",
       "      <td>NaN</td>\n",
       "      <td>NaN</td>\n",
       "      <td>NaN</td>\n",
       "      <td>NaN</td>\n",
       "      <td>NaN</td>\n",
       "      <td>NaN</td>\n",
       "      <td>NaN</td>\n",
       "      <td>NaN</td>\n",
       "      <td>NaN</td>\n",
       "    </tr>\n",
       "    <tr>\n",
       "      <th>2</th>\n",
       "      <td>b8257184-6307-46ab-b06e-d979336d1263</td>\n",
       "      <td>DX51D</td>\n",
       "      <td>NaN</td>\n",
       "      <td>Z100</td>\n",
       "      <td>Hot-dip Galvanized (+Z/+GI)</td>\n",
       "      <td>NaN</td>\n",
       "      <td>Lightly Oiled (L)</td>\n",
       "      <td>Coils</td>\n",
       "      <td>0.4</td>\n",
       "      <td>0.4</td>\n",
       "      <td>...</td>\n",
       "      <td>NaN</td>\n",
       "      <td>NaN</td>\n",
       "      <td>NaN</td>\n",
       "      <td>NaN</td>\n",
       "      <td>NaN</td>\n",
       "      <td>NaN</td>\n",
       "      <td>NaN</td>\n",
       "      <td>NaN</td>\n",
       "      <td>NaN</td>\n",
       "      <td>NaN</td>\n",
       "    </tr>\n",
       "  </tbody>\n",
       "</table>\n",
       "<p>3 rows × 25 columns</p>\n",
       "</div>"
      ],
      "text/plain": [
       "                                     id   grade  grade_suffix coating  \\\n",
       "0  8aff426d-b8c0-43aa-ad26-835ef4de6129  S700MC           NaN     NaN   \n",
       "1  37e624be-b125-464f-85b6-1838530193ef  S250GD           NaN   ZM310   \n",
       "2  b8257184-6307-46ab-b06e-d979336d1263   DX51D           NaN    Z100   \n",
       "\n",
       "                         finish surface_type surface_protection        form  \\\n",
       "0                         Oiled          NaN                NaN       Coils   \n",
       "1  Hot-dip zinc magnesium (+ZM)          NaN                NaN  Slit Coils   \n",
       "2   Hot-dip Galvanized (+Z/+GI)          NaN  Lightly Oiled (L)       Coils   \n",
       "\n",
       "   thickness_min  thickness_max  ...  weight_min  weight_max  \\\n",
       "0            6.0            6.0  ...     15000.0     25000.0   \n",
       "1            1.5            1.5  ...         NaN         NaN   \n",
       "2            0.4            0.4  ...         NaN         NaN   \n",
       "\n",
       "   inner_diameter_min  inner_diameter_max  outer_diameter_min  \\\n",
       "0               610.0               610.0                 NaN   \n",
       "1                 NaN                 NaN                 NaN   \n",
       "2                 NaN                 NaN                 NaN   \n",
       "\n",
       "   outer_diameter_max  yield_strength_min  yield_strength_max  \\\n",
       "0                 NaN                 NaN                 NaN   \n",
       "1                 NaN                 NaN                 NaN   \n",
       "2                 NaN                 NaN                 NaN   \n",
       "\n",
       "   tensile_strength_min  tensile_strength_max  \n",
       "0                 760.0                 810.0  \n",
       "1                   NaN                   NaN  \n",
       "2                   NaN                   NaN  \n",
       "\n",
       "[3 rows x 25 columns]"
      ]
     },
     "execution_count": 70,
     "metadata": {},
     "output_type": "execute_result"
    }
   ],
   "source": [
    "df_rfq.head(3)"
   ]
  },
  {
   "cell_type": "code",
   "execution_count": null,
   "id": "5d7754d1",
   "metadata": {},
   "outputs": [],
   "source": [
    "def normalize_grade(grade):\n",
    "    if pd.isna(grade):\n",
    "        return None\n",
    "\n",
    "    grade = str(grade).strip().upper()\n",
    "    grade = grade.replace(\" \", \"\")\n",
    "    grade = grade.replace(\"+\", \"\")\n",
    "\n",
    "    # remove suffixes if needed\n",
    "    suffixes_to_remove = [\"JR\", \"J0\", \"J2\", \"G3\"]\n",
    "    for suffix in suffixes_to_remove:\n",
    "        if grade.endswith(suffix):\n",
    "            grade = grade.replace(suffix, \"\")\n",
    "    \n",
    "    return grade"
   ]
  },
  {
   "cell_type": "code",
   "execution_count": 72,
   "id": "2e3b08b7",
   "metadata": {},
   "outputs": [],
   "source": [
    "# Normalize RFQ grades\n",
    "df_rfq[\"grade\"] = df_rfq[\"grade\"].apply(normalize_grade)\n",
    "\n",
    "# Normalize reference grades\n",
    "df_ref[\"grade\"] = df_ref[\"Grade/Material\"].apply(normalize_grade)"
   ]
  },
  {
   "cell_type": "code",
   "execution_count": 73,
   "id": "f80c793b",
   "metadata": {},
   "outputs": [],
   "source": [
    "df_joined = df_rfq.merge(df_ref, on=\"grade\", how=\"left\", suffixes=(\"\", \"_ref\"))"
   ]
  },
  {
   "cell_type": "code",
   "execution_count": 74,
   "id": "b5c87b3a",
   "metadata": {},
   "outputs": [
    {
     "data": {
      "application/vnd.microsoft.datawrangler.viewer.v0+json": {
       "columns": [
        {
         "name": "index",
         "rawType": "int64",
         "type": "integer"
        },
        {
         "name": "id",
         "rawType": "object",
         "type": "string"
        },
        {
         "name": "grade",
         "rawType": "object",
         "type": "string"
        },
        {
         "name": "grade_suffix",
         "rawType": "float64",
         "type": "float"
        },
        {
         "name": "coating",
         "rawType": "object",
         "type": "unknown"
        },
        {
         "name": "finish",
         "rawType": "object",
         "type": "string"
        },
        {
         "name": "surface_type",
         "rawType": "object",
         "type": "unknown"
        },
        {
         "name": "surface_protection",
         "rawType": "object",
         "type": "unknown"
        },
        {
         "name": "form",
         "rawType": "object",
         "type": "string"
        },
        {
         "name": "thickness_min",
         "rawType": "float64",
         "type": "float"
        },
        {
         "name": "thickness_max",
         "rawType": "float64",
         "type": "float"
        },
        {
         "name": "width_min",
         "rawType": "float64",
         "type": "float"
        },
        {
         "name": "width_max",
         "rawType": "float64",
         "type": "float"
        },
        {
         "name": "length_min",
         "rawType": "float64",
         "type": "float"
        },
        {
         "name": "height_min",
         "rawType": "float64",
         "type": "float"
        },
        {
         "name": "height_max",
         "rawType": "float64",
         "type": "float"
        },
        {
         "name": "weight_min",
         "rawType": "float64",
         "type": "float"
        },
        {
         "name": "weight_max",
         "rawType": "float64",
         "type": "float"
        },
        {
         "name": "inner_diameter_min",
         "rawType": "float64",
         "type": "float"
        },
        {
         "name": "inner_diameter_max",
         "rawType": "float64",
         "type": "float"
        },
        {
         "name": "outer_diameter_min",
         "rawType": "float64",
         "type": "float"
        },
        {
         "name": "outer_diameter_max",
         "rawType": "float64",
         "type": "float"
        },
        {
         "name": "yield_strength_min",
         "rawType": "float64",
         "type": "float"
        },
        {
         "name": "yield_strength_max",
         "rawType": "float64",
         "type": "float"
        },
        {
         "name": "tensile_strength_min",
         "rawType": "float64",
         "type": "float"
        },
        {
         "name": "tensile_strength_max",
         "rawType": "float64",
         "type": "float"
        },
        {
         "name": "Grade/Material",
         "rawType": "object",
         "type": "string"
        },
        {
         "name": "UNS_No",
         "rawType": "float64",
         "type": "float"
        },
        {
         "name": "Steel_No",
         "rawType": "float64",
         "type": "float"
        },
        {
         "name": "Standards",
         "rawType": "object",
         "type": "string"
        },
        {
         "name": "Carbon (C)",
         "rawType": "object",
         "type": "string"
        },
        {
         "name": "Manganese (Mn)",
         "rawType": "object",
         "type": "string"
        },
        {
         "name": "Silicon (Si)",
         "rawType": "object",
         "type": "unknown"
        },
        {
         "name": "Sulfur (S)",
         "rawType": "object",
         "type": "string"
        },
        {
         "name": "Phosphorus (P)",
         "rawType": "object",
         "type": "string"
        },
        {
         "name": "Chromium (Cr)",
         "rawType": "object",
         "type": "unknown"
        },
        {
         "name": "Nickel (Ni)",
         "rawType": "object",
         "type": "unknown"
        },
        {
         "name": "Molybdenum (Mo)",
         "rawType": "object",
         "type": "unknown"
        },
        {
         "name": "Vanadium (V)",
         "rawType": "object",
         "type": "unknown"
        },
        {
         "name": "Tungsten (W)",
         "rawType": "float64",
         "type": "float"
        },
        {
         "name": "Cobalt (Co)",
         "rawType": "float64",
         "type": "float"
        },
        {
         "name": "Copper (Cu)",
         "rawType": "object",
         "type": "unknown"
        },
        {
         "name": "Aluminum (Al)",
         "rawType": "object",
         "type": "string"
        },
        {
         "name": "Titanium (Ti)",
         "rawType": "object",
         "type": "unknown"
        },
        {
         "name": "Niobium (Nb)",
         "rawType": "object",
         "type": "unknown"
        },
        {
         "name": "Boron (B)",
         "rawType": "object",
         "type": "unknown"
        },
        {
         "name": "Nitrogen (N)",
         "rawType": "object",
         "type": "unknown"
        },
        {
         "name": "Tensile strength (Rm)",
         "rawType": "object",
         "type": "string"
        },
        {
         "name": "Yield strength (Re or Rp0.2)",
         "rawType": "object",
         "type": "string"
        },
        {
         "name": "Elongation (A%)",
         "rawType": "object",
         "type": "string"
        },
        {
         "name": "Reduction of area (Z%)",
         "rawType": "float64",
         "type": "float"
        },
        {
         "name": "Hardness (HB, HV, HRC)",
         "rawType": "object",
         "type": "unknown"
        },
        {
         "name": "Impact toughness (Charpy V-notch)",
         "rawType": "object",
         "type": "unknown"
        },
        {
         "name": "Fatigue limit",
         "rawType": "float64",
         "type": "float"
        },
        {
         "name": "Creep resistance",
         "rawType": "float64",
         "type": "float"
        },
        {
         "name": "Source_Pages",
         "rawType": "object",
         "type": "string"
        },
        {
         "name": "Application",
         "rawType": "object",
         "type": "string"
        },
        {
         "name": "Category",
         "rawType": "object",
         "type": "string"
        },
        {
         "name": "Nb + V + Ti (Others)",
         "rawType": "object",
         "type": "unknown"
        },
        {
         "name": "Coating",
         "rawType": "object",
         "type": "unknown"
        }
       ],
       "ref": "b06594d8-3eb0-4fe5-8c2f-c649b7064d03",
       "rows": [
        [
         "0",
         "8aff426d-b8c0-43aa-ad26-835ef4de6129",
         "S700MC",
         null,
         null,
         "Oiled",
         null,
         null,
         "Coils",
         "6.0",
         "6.0",
         "600.0",
         "1520.0",
         null,
         null,
         null,
         "15000.0",
         "25000.0",
         "610.0",
         "610.0",
         null,
         null,
         null,
         null,
         "760.0",
         "810.0",
         "S700MC",
         null,
         null,
         "EN 10149-2:2013",
         "≤0.12",
         "≤2.10",
         "≤0.60",
         "≤0.015",
         "≤0.025",
         null,
         null,
         null,
         "≤0.20",
         null,
         null,
         null,
         "≥0.015",
         "≤0.15",
         "≤0.09",
         null,
         null,
         "750-950 MPa",
         "≥700 MPa",
         "≥12%",
         null,
         null,
         null,
         null,
         null,
         "Standard Specifications",
         "Cold forming, automotive, high strength applications",
         "Microalloyed Steel",
         "≤0.22",
         null
        ],
        [
         "1",
         "37e624be-b125-464f-85b6-1838530193ef",
         "S250GD",
         null,
         "ZM310",
         "Hot-dip zinc magnesium (+ZM)",
         null,
         null,
         "Slit Coils",
         "1.5",
         "1.5",
         "327.0",
         "327.0",
         null,
         null,
         null,
         null,
         null,
         null,
         null,
         null,
         null,
         null,
         null,
         null,
         null,
         "S250GD",
         null,
         null,
         "EN 10346:2015",
         "≤0.25",
         "≤1.20",
         null,
         "≤0.045",
         "≤0.120",
         null,
         null,
         null,
         null,
         null,
         null,
         null,
         "≥0.010",
         null,
         null,
         null,
         null,
         "330-510 MPa",
         "≥250 MPa",
         "≥19%",
         null,
         null,
         null,
         null,
         null,
         "Standard Specifications",
         "Structural galvanized steel",
         "Galvanized Steel",
         null,
         "Hot-dip galvanized"
        ],
        [
         "2",
         "b8257184-6307-46ab-b06e-d979336d1263",
         "DX51D",
         null,
         "Z100",
         "Hot-dip Galvanized (+Z/+GI)",
         null,
         "Lightly Oiled (L)",
         "Coils",
         "0.4",
         "0.4",
         "1000.0",
         "1500.0",
         null,
         null,
         null,
         null,
         null,
         null,
         null,
         null,
         null,
         null,
         null,
         null,
         null,
         "DX51D",
         null,
         null,
         "EN 10346:2015",
         "≤0.12",
         "≤0.60",
         null,
         "≤0.045",
         "≤0.120",
         null,
         null,
         null,
         null,
         null,
         null,
         null,
         "≥0.010",
         null,
         null,
         null,
         null,
         "270-500 MPa",
         "≤350 MPa",
         "≥22%",
         null,
         null,
         null,
         null,
         null,
         "Standard Specifications",
         "Galvanized steel for forming",
         "Galvanized Steel",
         null,
         "Hot-dip galvanized"
        ]
       ],
       "shape": {
        "columns": 59,
        "rows": 3
       }
      },
      "text/html": [
       "<div>\n",
       "<style scoped>\n",
       "    .dataframe tbody tr th:only-of-type {\n",
       "        vertical-align: middle;\n",
       "    }\n",
       "\n",
       "    .dataframe tbody tr th {\n",
       "        vertical-align: top;\n",
       "    }\n",
       "\n",
       "    .dataframe thead th {\n",
       "        text-align: right;\n",
       "    }\n",
       "</style>\n",
       "<table border=\"1\" class=\"dataframe\">\n",
       "  <thead>\n",
       "    <tr style=\"text-align: right;\">\n",
       "      <th></th>\n",
       "      <th>id</th>\n",
       "      <th>grade</th>\n",
       "      <th>grade_suffix</th>\n",
       "      <th>coating</th>\n",
       "      <th>finish</th>\n",
       "      <th>surface_type</th>\n",
       "      <th>surface_protection</th>\n",
       "      <th>form</th>\n",
       "      <th>thickness_min</th>\n",
       "      <th>thickness_max</th>\n",
       "      <th>...</th>\n",
       "      <th>Reduction of area (Z%)</th>\n",
       "      <th>Hardness (HB, HV, HRC)</th>\n",
       "      <th>Impact toughness (Charpy V-notch)</th>\n",
       "      <th>Fatigue limit</th>\n",
       "      <th>Creep resistance</th>\n",
       "      <th>Source_Pages</th>\n",
       "      <th>Application</th>\n",
       "      <th>Category</th>\n",
       "      <th>Nb + V + Ti (Others)</th>\n",
       "      <th>Coating</th>\n",
       "    </tr>\n",
       "  </thead>\n",
       "  <tbody>\n",
       "    <tr>\n",
       "      <th>0</th>\n",
       "      <td>8aff426d-b8c0-43aa-ad26-835ef4de6129</td>\n",
       "      <td>S700MC</td>\n",
       "      <td>NaN</td>\n",
       "      <td>NaN</td>\n",
       "      <td>Oiled</td>\n",
       "      <td>NaN</td>\n",
       "      <td>NaN</td>\n",
       "      <td>Coils</td>\n",
       "      <td>6.0</td>\n",
       "      <td>6.0</td>\n",
       "      <td>...</td>\n",
       "      <td>NaN</td>\n",
       "      <td>NaN</td>\n",
       "      <td>NaN</td>\n",
       "      <td>NaN</td>\n",
       "      <td>NaN</td>\n",
       "      <td>Standard Specifications</td>\n",
       "      <td>Cold forming, automotive, high strength applic...</td>\n",
       "      <td>Microalloyed Steel</td>\n",
       "      <td>≤0.22</td>\n",
       "      <td>NaN</td>\n",
       "    </tr>\n",
       "    <tr>\n",
       "      <th>1</th>\n",
       "      <td>37e624be-b125-464f-85b6-1838530193ef</td>\n",
       "      <td>S250GD</td>\n",
       "      <td>NaN</td>\n",
       "      <td>ZM310</td>\n",
       "      <td>Hot-dip zinc magnesium (+ZM)</td>\n",
       "      <td>NaN</td>\n",
       "      <td>NaN</td>\n",
       "      <td>Slit Coils</td>\n",
       "      <td>1.5</td>\n",
       "      <td>1.5</td>\n",
       "      <td>...</td>\n",
       "      <td>NaN</td>\n",
       "      <td>NaN</td>\n",
       "      <td>NaN</td>\n",
       "      <td>NaN</td>\n",
       "      <td>NaN</td>\n",
       "      <td>Standard Specifications</td>\n",
       "      <td>Structural galvanized steel</td>\n",
       "      <td>Galvanized Steel</td>\n",
       "      <td>NaN</td>\n",
       "      <td>Hot-dip galvanized</td>\n",
       "    </tr>\n",
       "    <tr>\n",
       "      <th>2</th>\n",
       "      <td>b8257184-6307-46ab-b06e-d979336d1263</td>\n",
       "      <td>DX51D</td>\n",
       "      <td>NaN</td>\n",
       "      <td>Z100</td>\n",
       "      <td>Hot-dip Galvanized (+Z/+GI)</td>\n",
       "      <td>NaN</td>\n",
       "      <td>Lightly Oiled (L)</td>\n",
       "      <td>Coils</td>\n",
       "      <td>0.4</td>\n",
       "      <td>0.4</td>\n",
       "      <td>...</td>\n",
       "      <td>NaN</td>\n",
       "      <td>NaN</td>\n",
       "      <td>NaN</td>\n",
       "      <td>NaN</td>\n",
       "      <td>NaN</td>\n",
       "      <td>Standard Specifications</td>\n",
       "      <td>Galvanized steel for forming</td>\n",
       "      <td>Galvanized Steel</td>\n",
       "      <td>NaN</td>\n",
       "      <td>Hot-dip galvanized</td>\n",
       "    </tr>\n",
       "  </tbody>\n",
       "</table>\n",
       "<p>3 rows × 59 columns</p>\n",
       "</div>"
      ],
      "text/plain": [
       "                                     id   grade  grade_suffix coating  \\\n",
       "0  8aff426d-b8c0-43aa-ad26-835ef4de6129  S700MC           NaN     NaN   \n",
       "1  37e624be-b125-464f-85b6-1838530193ef  S250GD           NaN   ZM310   \n",
       "2  b8257184-6307-46ab-b06e-d979336d1263   DX51D           NaN    Z100   \n",
       "\n",
       "                         finish surface_type surface_protection        form  \\\n",
       "0                         Oiled          NaN                NaN       Coils   \n",
       "1  Hot-dip zinc magnesium (+ZM)          NaN                NaN  Slit Coils   \n",
       "2   Hot-dip Galvanized (+Z/+GI)          NaN  Lightly Oiled (L)       Coils   \n",
       "\n",
       "   thickness_min  thickness_max  ...  Reduction of area (Z%)  \\\n",
       "0            6.0            6.0  ...                     NaN   \n",
       "1            1.5            1.5  ...                     NaN   \n",
       "2            0.4            0.4  ...                     NaN   \n",
       "\n",
       "   Hardness (HB, HV, HRC)  Impact toughness (Charpy V-notch)  Fatigue limit  \\\n",
       "0                     NaN                                NaN            NaN   \n",
       "1                     NaN                                NaN            NaN   \n",
       "2                     NaN                                NaN            NaN   \n",
       "\n",
       "   Creep resistance             Source_Pages  \\\n",
       "0               NaN  Standard Specifications   \n",
       "1               NaN  Standard Specifications   \n",
       "2               NaN  Standard Specifications   \n",
       "\n",
       "                                         Application            Category  \\\n",
       "0  Cold forming, automotive, high strength applic...  Microalloyed Steel   \n",
       "1                        Structural galvanized steel    Galvanized Steel   \n",
       "2                       Galvanized steel for forming    Galvanized Steel   \n",
       "\n",
       "   Nb + V + Ti (Others)             Coating  \n",
       "0                 ≤0.22                 NaN  \n",
       "1                   NaN  Hot-dip galvanized  \n",
       "2                   NaN  Hot-dip galvanized  \n",
       "\n",
       "[3 rows x 59 columns]"
      ]
     },
     "execution_count": 74,
     "metadata": {},
     "output_type": "execute_result"
    }
   ],
   "source": [
    "df_joined.head(3)"
   ]
  },
  {
   "cell_type": "code",
   "execution_count": 75,
   "id": "7c13371e",
   "metadata": {},
   "outputs": [
    {
     "name": "stdout",
     "output_type": "stream",
     "text": [
      "RFQs with missing grade match: 59\n"
     ]
    }
   ],
   "source": [
    "# Check how many RFQs didn’t match any grade in reference\n",
    "missing_count = df_joined['Grade/Material'].isna().sum()\n",
    "print(f\"RFQs with missing grade match: {missing_count}\")\n",
    "\n",
    "# Optionally: add a column to flag it\n",
    "df_joined['grade_match_missing'] = df_joined['Grade/Material'].isna()"
   ]
  },
  {
   "cell_type": "code",
   "execution_count": 76,
   "id": "30df9c73",
   "metadata": {},
   "outputs": [],
   "source": [
    "categorical_cols = [\n",
    "    \"Standards\", \"Application\", \"Category\"\n",
    "]\n",
    "\n",
    "for col in categorical_cols:\n",
    "    if col in df_joined.columns:\n",
    "        df_joined[col] = df_joined[col].fillna(\"Unknown\")"
   ]
  },
  {
   "cell_type": "code",
   "execution_count": 77,
   "id": "12622427",
   "metadata": {},
   "outputs": [],
   "source": [
    "import re\n",
    "import numpy as np\n",
    "\n",
    "def parse_numeric_range(value):\n",
    "    if pd.isna(value):\n",
    "        return np.nan\n",
    "    value = str(value).strip()\n",
    "\n",
    "    # Match a single number or a range like \"0.15–0.25\"\n",
    "    match = re.match(r'^(\\d*\\.?\\d+)\\s*[–-]\\s*(\\d*\\.?\\d+)$', value)  # range\n",
    "    if match:\n",
    "        low = float(match.group(1))\n",
    "        high = float(match.group(2))\n",
    "        return (low + high) / 2\n",
    "\n",
    "    # Match a value with ≤ or ≥ or ≈ etc.\n",
    "    match = re.match(r'^[≤≥<>≈~]*\\s*(\\d*\\.?\\d+)$', value)\n",
    "    if match:\n",
    "        return float(match.group(1))\n",
    "\n",
    "    # Try just parsing it directly\n",
    "    try:\n",
    "        return float(value)\n",
    "    except:\n",
    "        return np.nan"
   ]
  },
  {
   "cell_type": "code",
   "execution_count": null,
   "id": "d3e46460",
   "metadata": {},
   "outputs": [],
   "source": [
    "# Apply to Carbon (C) column    \n",
    "df_joined['Carbon_clean'] = df_joined['Carbon (C)'].apply(parse_numeric_range)\n",
    "\n",
    "# impute\n",
    "median_val = df_joined['Carbon_clean'].median()\n",
    "df_joined['Carbon_clean'] = df_joined['Carbon_clean'].fillna(median_val)\n"
   ]
  },
  {
   "cell_type": "code",
   "execution_count": 79,
   "id": "b07118fb",
   "metadata": {},
   "outputs": [],
   "source": [
    "raw_cols = ['Carbon (C)', 'Manganese (Mn)', 'Silicon (Si)', 'Phosphorus (P)']\n",
    "for col in raw_cols:\n",
    "    new_col = col.replace(\" \", \"_\").replace(\"(\", \"\").replace(\")\", \"\") + \"_clean\"\n",
    "    df_joined[new_col] = df_joined[col].apply(parse_numeric_range)\n",
    "    median_val = df_joined[new_col].median()\n",
    "    df_joined[new_col] = df_joined[new_col].fillna(median_val)"
   ]
  },
  {
   "cell_type": "code",
   "execution_count": 80,
   "id": "7161fc96",
   "metadata": {},
   "outputs": [
    {
     "data": {
      "application/vnd.microsoft.datawrangler.viewer.v0+json": {
       "columns": [
        {
         "name": "index",
         "rawType": "int64",
         "type": "integer"
        },
        {
         "name": "Carbon (C)",
         "rawType": "object",
         "type": "string"
        },
        {
         "name": "Carbon_C_clean",
         "rawType": "float64",
         "type": "float"
        }
       ],
       "ref": "7473da32-9f4a-4969-b3f6-e72a285d5c76",
       "rows": [
        [
         "0",
         "≤0.12",
         "0.12"
        ],
        [
         "1",
         "≤0.25",
         "0.25"
        ],
        [
         "2",
         "≤0.12",
         "0.12"
        ],
        [
         "3",
         "≤0.17",
         "0.17"
        ],
        [
         "4",
         "≤0.17",
         "0.17"
        ]
       ],
       "shape": {
        "columns": 2,
        "rows": 5
       }
      },
      "text/html": [
       "<div>\n",
       "<style scoped>\n",
       "    .dataframe tbody tr th:only-of-type {\n",
       "        vertical-align: middle;\n",
       "    }\n",
       "\n",
       "    .dataframe tbody tr th {\n",
       "        vertical-align: top;\n",
       "    }\n",
       "\n",
       "    .dataframe thead th {\n",
       "        text-align: right;\n",
       "    }\n",
       "</style>\n",
       "<table border=\"1\" class=\"dataframe\">\n",
       "  <thead>\n",
       "    <tr style=\"text-align: right;\">\n",
       "      <th></th>\n",
       "      <th>Carbon (C)</th>\n",
       "      <th>Carbon_C_clean</th>\n",
       "    </tr>\n",
       "  </thead>\n",
       "  <tbody>\n",
       "    <tr>\n",
       "      <th>0</th>\n",
       "      <td>≤0.12</td>\n",
       "      <td>0.12</td>\n",
       "    </tr>\n",
       "    <tr>\n",
       "      <th>1</th>\n",
       "      <td>≤0.25</td>\n",
       "      <td>0.25</td>\n",
       "    </tr>\n",
       "    <tr>\n",
       "      <th>2</th>\n",
       "      <td>≤0.12</td>\n",
       "      <td>0.12</td>\n",
       "    </tr>\n",
       "    <tr>\n",
       "      <th>3</th>\n",
       "      <td>≤0.17</td>\n",
       "      <td>0.17</td>\n",
       "    </tr>\n",
       "    <tr>\n",
       "      <th>4</th>\n",
       "      <td>≤0.17</td>\n",
       "      <td>0.17</td>\n",
       "    </tr>\n",
       "  </tbody>\n",
       "</table>\n",
       "</div>"
      ],
      "text/plain": [
       "  Carbon (C)  Carbon_C_clean\n",
       "0      ≤0.12            0.12\n",
       "1      ≤0.25            0.25\n",
       "2      ≤0.12            0.12\n",
       "3      ≤0.17            0.17\n",
       "4      ≤0.17            0.17"
      ]
     },
     "execution_count": 80,
     "metadata": {},
     "output_type": "execute_result"
    }
   ],
   "source": [
    "df_joined[['Carbon (C)', 'Carbon_C_clean']].head()"
   ]
  },
  {
   "cell_type": "markdown",
   "id": "ee4c74cc",
   "metadata": {},
   "source": [
    "## Senario B - Task 2"
   ]
  },
  {
   "cell_type": "code",
   "execution_count": 81,
   "id": "00cf9ac8",
   "metadata": {},
   "outputs": [],
   "source": [
    "# Create thickness point\n",
    "df_joined[\"thickness_mid\"] = (df_joined[\"thickness_min\"] + df_joined[\"thickness_max\"]) / 2\n",
    "\n",
    "# Do the same for width and yield strength\n",
    "df_joined[\"width_mid\"] = (df_joined[\"width_min\"] + df_joined[\"width_max\"]) / 2\n",
    "df_joined[\"yield_mid_rfq\"] = (df_joined[\"yield_strength_min\"] + df_joined[\"yield_strength_max\"]) / 2\n",
    "df_joined[\"tensile_mid_rfq\"] = (df_joined[\"tensile_strength_min\"] + df_joined[\"tensile_strength_max\"]) / 2"
   ]
  },
  {
   "cell_type": "code",
   "execution_count": 82,
   "id": "e4d04e32",
   "metadata": {},
   "outputs": [],
   "source": [
    "def compute_iou(min1, max1, min2, max2):\n",
    "    if pd.isna(min1) or pd.isna(max1) or pd.isna(min2) or pd.isna(max2):\n",
    "        return 0.0\n",
    "    inter = max(0, min(max1, max2) - max(min1, min2))\n",
    "    union = max(max1, max2) - min(min1, min2)\n",
    "    return inter / union if union != 0 else 0.0"
   ]
  },
  {
   "cell_type": "code",
   "execution_count": 83,
   "id": "31585d58",
   "metadata": {},
   "outputs": [],
   "source": [
    "null_ratio = df_joined.isnull().mean()\n",
    "sparse_cols = null_ratio[null_ratio > 0.7].index.tolist()\n",
    "df_joined = df_joined.drop(columns=sparse_cols)"
   ]
  },
  {
   "cell_type": "code",
   "execution_count": 84,
   "id": "9f54ae35",
   "metadata": {},
   "outputs": [
    {
     "data": {
      "application/vnd.microsoft.datawrangler.viewer.v0+json": {
       "columns": [
        {
         "name": "index",
         "rawType": "int64",
         "type": "integer"
        },
        {
         "name": "id",
         "rawType": "object",
         "type": "string"
        },
        {
         "name": "grade",
         "rawType": "object",
         "type": "string"
        },
        {
         "name": "finish",
         "rawType": "object",
         "type": "string"
        },
        {
         "name": "form",
         "rawType": "object",
         "type": "string"
        },
        {
         "name": "thickness_min",
         "rawType": "float64",
         "type": "float"
        },
        {
         "name": "thickness_max",
         "rawType": "float64",
         "type": "float"
        },
        {
         "name": "width_min",
         "rawType": "float64",
         "type": "float"
        },
        {
         "name": "width_max",
         "rawType": "float64",
         "type": "float"
        },
        {
         "name": "weight_min",
         "rawType": "float64",
         "type": "float"
        },
        {
         "name": "weight_max",
         "rawType": "float64",
         "type": "float"
        },
        {
         "name": "Grade/Material",
         "rawType": "object",
         "type": "string"
        },
        {
         "name": "Standards",
         "rawType": "object",
         "type": "string"
        },
        {
         "name": "Carbon (C)",
         "rawType": "object",
         "type": "string"
        },
        {
         "name": "Manganese (Mn)",
         "rawType": "object",
         "type": "string"
        },
        {
         "name": "Silicon (Si)",
         "rawType": "object",
         "type": "unknown"
        },
        {
         "name": "Sulfur (S)",
         "rawType": "object",
         "type": "string"
        },
        {
         "name": "Phosphorus (P)",
         "rawType": "object",
         "type": "string"
        },
        {
         "name": "Aluminum (Al)",
         "rawType": "object",
         "type": "string"
        },
        {
         "name": "Tensile strength (Rm)",
         "rawType": "object",
         "type": "string"
        },
        {
         "name": "Yield strength (Re or Rp0.2)",
         "rawType": "object",
         "type": "string"
        },
        {
         "name": "Elongation (A%)",
         "rawType": "object",
         "type": "string"
        },
        {
         "name": "Source_Pages",
         "rawType": "object",
         "type": "string"
        },
        {
         "name": "Application",
         "rawType": "object",
         "type": "string"
        },
        {
         "name": "Category",
         "rawType": "object",
         "type": "string"
        },
        {
         "name": "grade_match_missing",
         "rawType": "bool",
         "type": "boolean"
        },
        {
         "name": "Carbon_clean",
         "rawType": "float64",
         "type": "float"
        },
        {
         "name": "Carbon_C_clean",
         "rawType": "float64",
         "type": "float"
        },
        {
         "name": "Manganese_Mn_clean",
         "rawType": "float64",
         "type": "float"
        },
        {
         "name": "Silicon_Si_clean",
         "rawType": "float64",
         "type": "float"
        },
        {
         "name": "Phosphorus_P_clean",
         "rawType": "float64",
         "type": "float"
        },
        {
         "name": "thickness_mid",
         "rawType": "float64",
         "type": "float"
        },
        {
         "name": "width_mid",
         "rawType": "float64",
         "type": "float"
        }
       ],
       "ref": "618dc77e-daa6-4165-8bcc-a22b2c7131ca",
       "rows": [
        [
         "0",
         "8aff426d-b8c0-43aa-ad26-835ef4de6129",
         "S700MC",
         "Oiled",
         "Coils",
         "6.0",
         "6.0",
         "600.0",
         "1520.0",
         "15000.0",
         "25000.0",
         "S700MC",
         "EN 10149-2:2013",
         "≤0.12",
         "≤2.10",
         "≤0.60",
         "≤0.015",
         "≤0.025",
         "≥0.015",
         "750-950 MPa",
         "≥700 MPa",
         "≥12%",
         "Standard Specifications",
         "Cold forming, automotive, high strength applications",
         "Microalloyed Steel",
         "False",
         "0.12",
         "0.12",
         "2.1",
         "0.6",
         "0.025",
         "6.0",
         "1060.0"
        ],
        [
         "1",
         "37e624be-b125-464f-85b6-1838530193ef",
         "S250GD",
         "Hot-dip zinc magnesium (+ZM)",
         "Slit Coils",
         "1.5",
         "1.5",
         "327.0",
         "327.0",
         null,
         null,
         "S250GD",
         "EN 10346:2015",
         "≤0.25",
         "≤1.20",
         null,
         "≤0.045",
         "≤0.120",
         "≥0.010",
         "330-510 MPa",
         "≥250 MPa",
         "≥19%",
         "Standard Specifications",
         "Structural galvanized steel",
         "Galvanized Steel",
         "False",
         "0.25",
         "0.25",
         "1.2",
         "0.5",
         "0.12",
         "1.5",
         "327.0"
        ],
        [
         "2",
         "b8257184-6307-46ab-b06e-d979336d1263",
         "DX51D",
         "Hot-dip Galvanized (+Z/+GI)",
         "Coils",
         "0.4",
         "0.4",
         "1000.0",
         "1500.0",
         null,
         null,
         "DX51D",
         "EN 10346:2015",
         "≤0.12",
         "≤0.60",
         null,
         "≤0.045",
         "≤0.120",
         "≥0.010",
         "270-500 MPa",
         "≤350 MPa",
         "≥22%",
         "Standard Specifications",
         "Galvanized steel for forming",
         "Galvanized Steel",
         "False",
         "0.12",
         "0.12",
         "0.6",
         "0.5",
         "0.12",
         "0.4",
         "1250.0"
        ]
       ],
       "shape": {
        "columns": 32,
        "rows": 3
       }
      },
      "text/html": [
       "<div>\n",
       "<style scoped>\n",
       "    .dataframe tbody tr th:only-of-type {\n",
       "        vertical-align: middle;\n",
       "    }\n",
       "\n",
       "    .dataframe tbody tr th {\n",
       "        vertical-align: top;\n",
       "    }\n",
       "\n",
       "    .dataframe thead th {\n",
       "        text-align: right;\n",
       "    }\n",
       "</style>\n",
       "<table border=\"1\" class=\"dataframe\">\n",
       "  <thead>\n",
       "    <tr style=\"text-align: right;\">\n",
       "      <th></th>\n",
       "      <th>id</th>\n",
       "      <th>grade</th>\n",
       "      <th>finish</th>\n",
       "      <th>form</th>\n",
       "      <th>thickness_min</th>\n",
       "      <th>thickness_max</th>\n",
       "      <th>width_min</th>\n",
       "      <th>width_max</th>\n",
       "      <th>weight_min</th>\n",
       "      <th>weight_max</th>\n",
       "      <th>...</th>\n",
       "      <th>Application</th>\n",
       "      <th>Category</th>\n",
       "      <th>grade_match_missing</th>\n",
       "      <th>Carbon_clean</th>\n",
       "      <th>Carbon_C_clean</th>\n",
       "      <th>Manganese_Mn_clean</th>\n",
       "      <th>Silicon_Si_clean</th>\n",
       "      <th>Phosphorus_P_clean</th>\n",
       "      <th>thickness_mid</th>\n",
       "      <th>width_mid</th>\n",
       "    </tr>\n",
       "  </thead>\n",
       "  <tbody>\n",
       "    <tr>\n",
       "      <th>0</th>\n",
       "      <td>8aff426d-b8c0-43aa-ad26-835ef4de6129</td>\n",
       "      <td>S700MC</td>\n",
       "      <td>Oiled</td>\n",
       "      <td>Coils</td>\n",
       "      <td>6.0</td>\n",
       "      <td>6.0</td>\n",
       "      <td>600.0</td>\n",
       "      <td>1520.0</td>\n",
       "      <td>15000.0</td>\n",
       "      <td>25000.0</td>\n",
       "      <td>...</td>\n",
       "      <td>Cold forming, automotive, high strength applic...</td>\n",
       "      <td>Microalloyed Steel</td>\n",
       "      <td>False</td>\n",
       "      <td>0.12</td>\n",
       "      <td>0.12</td>\n",
       "      <td>2.1</td>\n",
       "      <td>0.6</td>\n",
       "      <td>0.025</td>\n",
       "      <td>6.0</td>\n",
       "      <td>1060.0</td>\n",
       "    </tr>\n",
       "    <tr>\n",
       "      <th>1</th>\n",
       "      <td>37e624be-b125-464f-85b6-1838530193ef</td>\n",
       "      <td>S250GD</td>\n",
       "      <td>Hot-dip zinc magnesium (+ZM)</td>\n",
       "      <td>Slit Coils</td>\n",
       "      <td>1.5</td>\n",
       "      <td>1.5</td>\n",
       "      <td>327.0</td>\n",
       "      <td>327.0</td>\n",
       "      <td>NaN</td>\n",
       "      <td>NaN</td>\n",
       "      <td>...</td>\n",
       "      <td>Structural galvanized steel</td>\n",
       "      <td>Galvanized Steel</td>\n",
       "      <td>False</td>\n",
       "      <td>0.25</td>\n",
       "      <td>0.25</td>\n",
       "      <td>1.2</td>\n",
       "      <td>0.5</td>\n",
       "      <td>0.120</td>\n",
       "      <td>1.5</td>\n",
       "      <td>327.0</td>\n",
       "    </tr>\n",
       "    <tr>\n",
       "      <th>2</th>\n",
       "      <td>b8257184-6307-46ab-b06e-d979336d1263</td>\n",
       "      <td>DX51D</td>\n",
       "      <td>Hot-dip Galvanized (+Z/+GI)</td>\n",
       "      <td>Coils</td>\n",
       "      <td>0.4</td>\n",
       "      <td>0.4</td>\n",
       "      <td>1000.0</td>\n",
       "      <td>1500.0</td>\n",
       "      <td>NaN</td>\n",
       "      <td>NaN</td>\n",
       "      <td>...</td>\n",
       "      <td>Galvanized steel for forming</td>\n",
       "      <td>Galvanized Steel</td>\n",
       "      <td>False</td>\n",
       "      <td>0.12</td>\n",
       "      <td>0.12</td>\n",
       "      <td>0.6</td>\n",
       "      <td>0.5</td>\n",
       "      <td>0.120</td>\n",
       "      <td>0.4</td>\n",
       "      <td>1250.0</td>\n",
       "    </tr>\n",
       "  </tbody>\n",
       "</table>\n",
       "<p>3 rows × 32 columns</p>\n",
       "</div>"
      ],
      "text/plain": [
       "                                     id   grade                        finish  \\\n",
       "0  8aff426d-b8c0-43aa-ad26-835ef4de6129  S700MC                         Oiled   \n",
       "1  37e624be-b125-464f-85b6-1838530193ef  S250GD  Hot-dip zinc magnesium (+ZM)   \n",
       "2  b8257184-6307-46ab-b06e-d979336d1263   DX51D   Hot-dip Galvanized (+Z/+GI)   \n",
       "\n",
       "         form  thickness_min  thickness_max  width_min  width_max  weight_min  \\\n",
       "0       Coils            6.0            6.0      600.0     1520.0     15000.0   \n",
       "1  Slit Coils            1.5            1.5      327.0      327.0         NaN   \n",
       "2       Coils            0.4            0.4     1000.0     1500.0         NaN   \n",
       "\n",
       "   weight_max  ...                                        Application  \\\n",
       "0     25000.0  ...  Cold forming, automotive, high strength applic...   \n",
       "1         NaN  ...                        Structural galvanized steel   \n",
       "2         NaN  ...                       Galvanized steel for forming   \n",
       "\n",
       "             Category grade_match_missing Carbon_clean Carbon_C_clean  \\\n",
       "0  Microalloyed Steel               False         0.12           0.12   \n",
       "1    Galvanized Steel               False         0.25           0.25   \n",
       "2    Galvanized Steel               False         0.12           0.12   \n",
       "\n",
       "  Manganese_Mn_clean Silicon_Si_clean Phosphorus_P_clean thickness_mid  \\\n",
       "0                2.1              0.6              0.025           6.0   \n",
       "1                1.2              0.5              0.120           1.5   \n",
       "2                0.6              0.5              0.120           0.4   \n",
       "\n",
       "  width_mid  \n",
       "0    1060.0  \n",
       "1     327.0  \n",
       "2    1250.0  \n",
       "\n",
       "[3 rows x 32 columns]"
      ]
     },
     "execution_count": 84,
     "metadata": {},
     "output_type": "execute_result"
    }
   ],
   "source": [
    "df_joined.head(3)\n"
   ]
  },
  {
   "cell_type": "markdown",
   "id": "b48a952b",
   "metadata": {},
   "source": [
    "----"
   ]
  },
  {
   "cell_type": "markdown",
   "id": "5b56f085",
   "metadata": {},
   "source": [
    "# Senario B - Task 2"
   ]
  },
  {
   "cell_type": "code",
   "execution_count": 85,
   "id": "7f8ade31",
   "metadata": {},
   "outputs": [
    {
     "name": "stdout",
     "output_type": "stream",
     "text": [
      "['id', 'grade', 'finish', 'form', 'thickness_min', 'thickness_max', 'width_min', 'width_max', 'weight_min', 'weight_max', 'Grade/Material', 'Standards', 'Carbon (C)', 'Manganese (Mn)', 'Silicon (Si)', 'Sulfur (S)', 'Phosphorus (P)', 'Aluminum (Al)', 'Tensile strength (Rm)', 'Yield strength (Re or Rp0.2)', 'Elongation (A%)', 'Source_Pages', 'Application', 'Category', 'grade_match_missing', 'Carbon_clean', 'Carbon_C_clean', 'Manganese_Mn_clean', 'Silicon_Si_clean', 'Phosphorus_P_clean', 'thickness_mid', 'width_mid']\n"
     ]
    }
   ],
   "source": [
    "print(df_joined.columns.tolist())"
   ]
  },
  {
   "cell_type": "code",
   "execution_count": 86,
   "id": "7006a5c5",
   "metadata": {},
   "outputs": [
    {
     "name": "stdout",
     "output_type": "stream",
     "text": [
      "<class 'pandas.core.frame.DataFrame'>\n",
      "RangeIndex: 1159 entries, 0 to 1158\n",
      "Data columns (total 32 columns):\n",
      " #   Column                        Non-Null Count  Dtype  \n",
      "---  ------                        --------------  -----  \n",
      " 0   id                            1159 non-null   object \n",
      " 1   grade                         1100 non-null   object \n",
      " 2   finish                        745 non-null    object \n",
      " 3   form                          1072 non-null   object \n",
      " 4   thickness_min                 959 non-null    float64\n",
      " 5   thickness_max                 961 non-null    float64\n",
      " 6   width_min                     633 non-null    float64\n",
      " 7   width_max                     787 non-null    float64\n",
      " 8   weight_min                    465 non-null    float64\n",
      " 9   weight_max                    760 non-null    float64\n",
      " 10  Grade/Material                1100 non-null   object \n",
      " 11  Standards                     1159 non-null   object \n",
      " 12  Carbon (C)                    1100 non-null   object \n",
      " 13  Manganese (Mn)                1100 non-null   object \n",
      " 14  Silicon (Si)                  699 non-null    object \n",
      " 15  Sulfur (S)                    1088 non-null   object \n",
      " 16  Phosphorus (P)                1088 non-null   object \n",
      " 17  Aluminum (Al)                 545 non-null    object \n",
      " 18  Tensile strength (Rm)         1100 non-null   object \n",
      " 19  Yield strength (Re or Rp0.2)  1089 non-null   object \n",
      " 20  Elongation (A%)               1080 non-null   object \n",
      " 21  Source_Pages                  1100 non-null   object \n",
      " 22  Application                   1159 non-null   object \n",
      " 23  Category                      1159 non-null   object \n",
      " 24  grade_match_missing           1159 non-null   bool   \n",
      " 25  Carbon_clean                  1159 non-null   float64\n",
      " 26  Carbon_C_clean                1159 non-null   float64\n",
      " 27  Manganese_Mn_clean            1159 non-null   float64\n",
      " 28  Silicon_Si_clean              1159 non-null   float64\n",
      " 29  Phosphorus_P_clean            1159 non-null   float64\n",
      " 30  thickness_mid                 959 non-null    float64\n",
      " 31  width_mid                     562 non-null    float64\n",
      "dtypes: bool(1), float64(13), object(18)\n",
      "memory usage: 282.0+ KB\n"
     ]
    }
   ],
   "source": [
    "df_joined.info()"
   ]
  },
  {
   "cell_type": "code",
   "execution_count": 87,
   "id": "87ea2250",
   "metadata": {},
   "outputs": [],
   "source": [
    "def parse_range(value):\n",
    "    import re\n",
    "    if pd.isna(value):\n",
    "        return (np.nan, np.nan, np.nan)\n",
    "    value = str(value).strip()\n",
    "    match = re.match(r'^(\\d+)\\s*[–-]\\s*(\\d+)$', value)\n",
    "    if match:\n",
    "        low, high = float(match.group(1)), float(match.group(2))\n",
    "        mid = (low + high) / 2\n",
    "        return (low, high, mid)\n",
    "    match = re.match(r'^[≤≥<>~]*\\s*(\\d+)$', value)\n",
    "    if match:\n",
    "        val = float(match.group(1))\n",
    "        return (val, val, val)\n",
    "    return (np.nan, np.nan, np.nan)\n",
    "\n",
    "# Apply to tensile & yield strength\n",
    "df_joined[['tensile_min', 'tensile_max', 'tensile_mid']] = df_joined['Tensile strength (Rm)'].apply(parse_range).apply(pd.Series)\n",
    "df_joined[['yield_min', 'yield_max', 'yield_mid']] = df_joined['Yield strength (Re or Rp0.2)'].apply(parse_range).apply(pd.Series)"
   ]
  },
  {
   "cell_type": "code",
   "execution_count": 88,
   "id": "549ccfe0",
   "metadata": {},
   "outputs": [],
   "source": [
    "# Similarity between RFQ and ref strength midpoints\n",
    "df_joined[\"yield_similarity\"] = 1 - abs(df_joined[\"yield_mid\"] - df_joined[\"thickness_mid\"]) / df_joined[\"yield_mid\"].max()\n",
    "df_joined[\"tensile_similarity\"] = 1 - abs(df_joined[\"tensile_mid\"] - df_joined[\"width_mid\"]) / df_joined[\"tensile_mid\"].max()"
   ]
  },
  {
   "cell_type": "code",
   "execution_count": 89,
   "id": "5f3557ba",
   "metadata": {},
   "outputs": [],
   "source": [
    "df_joined[\"tensile_strength_min\"] = df_joined[\"tensile_mid\"]  # just for testing"
   ]
  },
  {
   "cell_type": "code",
   "execution_count": 90,
   "id": "57959e79",
   "metadata": {},
   "outputs": [],
   "source": [
    "similarity_features = [\n",
    "    \"iou_thickness\", \"iou_width\", \n",
    "    \"match_form\", \"match_finish\", \n",
    "    \"yield_similarity\", \"tensile_similarity\"\n",
    "]"
   ]
  },
  {
   "cell_type": "code",
   "execution_count": null,
   "id": "83efc4d1",
   "metadata": {},
   "outputs": [],
   "source": [
    "# Features engineerd for similarity\n",
    "similarity_features = [\n",
    "    \"iou_thickness\",       # overlap in thickness\n",
    "    \"iou_width\",           # overlap in width\n",
    "    \"match_form\",          # 1 if form matches\n",
    "    \"match_finish\",        # 1 if finish matches\n",
    "    \"yield_similarity\",    # numeric comparison\n",
    "    \"tensile_similarity\"   # numeric comparison\n",
    "]\n",
    "\n",
    "# Define corresponding weights (sum = 1.0)\n",
    "weights = {\n",
    "    \"iou_thickness\": 0.25,\n",
    "    \"iou_width\": 0.25,\n",
    "    \"match_form\": 0.15,\n",
    "    \"match_finish\": 0.15,\n",
    "    \"yield_similarity\": 0.10,\n",
    "    \"tensile_similarity\": 0.10\n",
    "}"
   ]
  },
  {
   "cell_type": "code",
   "execution_count": null,
   "id": "be1dffe7",
   "metadata": {},
   "outputs": [],
   "source": [
    "def compute_iou(min1, max1, min2, max2):\n",
    "    if pd.isna(min1) or pd.isna(max1) or pd.isna(min2) or pd.isna(max2):\n",
    "        return 0.0\n",
    "    inter = max(0, min(max1, max2) - max(min1, min2))\n",
    "    union = max(max1, max2) - min(min1, min2)\n",
    "    return inter / union if union != 0 else 0.0\n",
    "\n",
    "# Simulate fixed values for reference\n",
    "df_joined[\"ref_thickness_min\"] = df_joined[\"thickness_mid\"]\n",
    "df_joined[\"ref_thickness_max\"] = df_joined[\"thickness_mid\"]\n",
    "\n",
    "df_joined[\"ref_width_min\"] = df_joined[\"width_mid\"]\n",
    "df_joined[\"ref_width_max\"] = df_joined[\"width_mid\"]\n",
    "\n",
    "# Compute IoU\n",
    "df_joined[\"iou_thickness\"] = df_joined.apply(\n",
    "    lambda row: compute_iou(row[\"thickness_min\"], row[\"thickness_max\"], row[\"ref_thickness_min\"], row[\"ref_thickness_max\"]),\n",
    "    axis=1\n",
    ")\n",
    "\n",
    "df_joined[\"iou_width\"] = df_joined.apply(\n",
    "    lambda row: compute_iou(row[\"width_min\"], row[\"width_max\"], row[\"ref_width_min\"], row[\"ref_width_max\"]),\n",
    "    axis=1\n",
    ")"
   ]
  },
  {
   "cell_type": "code",
   "execution_count": 93,
   "id": "0c3bca5c",
   "metadata": {},
   "outputs": [],
   "source": [
    "# Safe string comparison (ignores case & handles NaN)\n",
    "df_joined[\"match_form\"] = (\n",
    "    df_joined[\"form\"].astype(str).str.strip().str.lower() ==\n",
    "    df_joined[\"Category\"].astype(str).str.strip().str.lower()\n",
    ").astype(int)\n",
    "\n",
    "df_joined[\"match_finish\"] = (\n",
    "    df_joined[\"finish\"].astype(str).str.strip().str.lower() ==\n",
    "    df_joined[\"finish\"].astype(str).str.strip().str.lower()\n",
    ").astype(int)"
   ]
  },
  {
   "cell_type": "code",
   "execution_count": null,
   "id": "c57b74f9",
   "metadata": {},
   "outputs": [],
   "source": [
    "from sklearn.metrics.pairwise import cosine_similarity\n",
    "\n",
    "# Weighted feature matrix\n",
    "X = df_joined[similarity_features].fillna(0).copy()\n",
    "for col in similarity_features:\n",
    "    X[col] *= weights[col]\n",
    "\n",
    "# Cosine similarity\n",
    "X_matrix = X.values\n",
    "rfq_ids = df_joined[\"id\"].values\n",
    "\n",
    "similarity_matrix = cosine_similarity(X_matrix)\n",
    "np.fill_diagonal(similarity_matrix, 0)\n",
    "\n",
    "# Get top-3\n",
    "top3_results = []\n",
    "for i, rfq_id in enumerate(rfq_ids):\n",
    "    sims = similarity_matrix[i]\n",
    "    top_indices = sims.argsort()[-3:][::-1]\n",
    "    for j in top_indices:\n",
    "        top3_results.append({\n",
    "            \"rfq_id\": rfq_id,\n",
    "            \"match_id\": rfq_ids[j],\n",
    "            \"similarity_score\": round(sims[j], 4)\n",
    "        })"
   ]
  },
  {
   "cell_type": "code",
   "execution_count": 96,
   "id": "a3404fce",
   "metadata": {},
   "outputs": [
    {
     "data": {
      "application/vnd.microsoft.datawrangler.viewer.v0+json": {
       "columns": [
        {
         "name": "index",
         "rawType": "int64",
         "type": "integer"
        },
        {
         "name": "rfq_id",
         "rawType": "object",
         "type": "string"
        },
        {
         "name": "match_id",
         "rawType": "object",
         "type": "string"
        },
        {
         "name": "similarity_score",
         "rawType": "float64",
         "type": "float"
        }
       ],
       "ref": "f2c0bd13-8ecf-49b0-81d9-2170482f6378",
       "rows": [
        [
         "0",
         "8aff426d-b8c0-43aa-ad26-835ef4de6129",
         "26ea35b5-2ccf-4fdc-884f-50a7c3a000b8",
         "1.0"
        ],
        [
         "1",
         "8aff426d-b8c0-43aa-ad26-835ef4de6129",
         "90b02a62-3da9-4648-948c-52627d086a50",
         "1.0"
        ],
        [
         "2",
         "8aff426d-b8c0-43aa-ad26-835ef4de6129",
         "d3db6f2f-6218-4612-8a63-c26d4ac69658",
         "1.0"
        ]
       ],
       "shape": {
        "columns": 3,
        "rows": 3
       }
      },
      "text/html": [
       "<div>\n",
       "<style scoped>\n",
       "    .dataframe tbody tr th:only-of-type {\n",
       "        vertical-align: middle;\n",
       "    }\n",
       "\n",
       "    .dataframe tbody tr th {\n",
       "        vertical-align: top;\n",
       "    }\n",
       "\n",
       "    .dataframe thead th {\n",
       "        text-align: right;\n",
       "    }\n",
       "</style>\n",
       "<table border=\"1\" class=\"dataframe\">\n",
       "  <thead>\n",
       "    <tr style=\"text-align: right;\">\n",
       "      <th></th>\n",
       "      <th>rfq_id</th>\n",
       "      <th>match_id</th>\n",
       "      <th>similarity_score</th>\n",
       "    </tr>\n",
       "  </thead>\n",
       "  <tbody>\n",
       "    <tr>\n",
       "      <th>0</th>\n",
       "      <td>8aff426d-b8c0-43aa-ad26-835ef4de6129</td>\n",
       "      <td>26ea35b5-2ccf-4fdc-884f-50a7c3a000b8</td>\n",
       "      <td>1.0</td>\n",
       "    </tr>\n",
       "    <tr>\n",
       "      <th>1</th>\n",
       "      <td>8aff426d-b8c0-43aa-ad26-835ef4de6129</td>\n",
       "      <td>90b02a62-3da9-4648-948c-52627d086a50</td>\n",
       "      <td>1.0</td>\n",
       "    </tr>\n",
       "    <tr>\n",
       "      <th>2</th>\n",
       "      <td>8aff426d-b8c0-43aa-ad26-835ef4de6129</td>\n",
       "      <td>d3db6f2f-6218-4612-8a63-c26d4ac69658</td>\n",
       "      <td>1.0</td>\n",
       "    </tr>\n",
       "  </tbody>\n",
       "</table>\n",
       "</div>"
      ],
      "text/plain": [
       "                                 rfq_id                              match_id  \\\n",
       "0  8aff426d-b8c0-43aa-ad26-835ef4de6129  26ea35b5-2ccf-4fdc-884f-50a7c3a000b8   \n",
       "1  8aff426d-b8c0-43aa-ad26-835ef4de6129  90b02a62-3da9-4648-948c-52627d086a50   \n",
       "2  8aff426d-b8c0-43aa-ad26-835ef4de6129  d3db6f2f-6218-4612-8a63-c26d4ac69658   \n",
       "\n",
       "   similarity_score  \n",
       "0               1.0  \n",
       "1               1.0  \n",
       "2               1.0  "
      ]
     },
     "execution_count": 96,
     "metadata": {},
     "output_type": "execute_result"
    }
   ],
   "source": [
    "top3_df"
   ]
  },
  {
   "cell_type": "code",
   "execution_count": 95,
   "id": "3545ce29",
   "metadata": {},
   "outputs": [
    {
     "name": "stdout",
     "output_type": "stream",
     "text": [
      "✅ top3.csv saved!\n"
     ]
    }
   ],
   "source": [
    "# Save\n",
    "top3_df = pd.DataFrame(top3_results).head(3)\n",
    "top3_df.to_csv(\"../../output/top3.csv\", index=False)\n",
    "print(\"✅ top3.csv saved!\")"
   ]
  }
 ],
 "metadata": {
  "kernelspec": {
   "display_name": "venv",
   "language": "python",
   "name": "python3"
  },
  "language_info": {
   "codemirror_mode": {
    "name": "ipython",
    "version": 3
   },
   "file_extension": ".py",
   "mimetype": "text/x-python",
   "name": "python",
   "nbconvert_exporter": "python",
   "pygments_lexer": "ipython3",
   "version": "3.13.5"
  }
 },
 "nbformat": 4,
 "nbformat_minor": 5
}
