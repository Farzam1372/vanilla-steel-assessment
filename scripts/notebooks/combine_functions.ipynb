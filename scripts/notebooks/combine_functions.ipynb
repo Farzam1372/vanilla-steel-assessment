{
 "cells": [
  {
   "cell_type": "markdown",
   "id": "08c83b8d",
   "metadata": {},
   "source": [
    "Import the libraries"
   ]
  },
  {
   "cell_type": "code",
   "execution_count": null,
   "id": "13d692f8",
   "metadata": {},
   "outputs": [],
   "source": [
    "# Data manipulation\n",
    "import pandas as pd\n",
    "import numpy as np\n",
    "import re\n",
    "import os\n",
    "\n",
    "# Warnings filtering.\n",
    "import warnings\n",
    "warnings.filterwarnings('ignore')"
   ]
  },
  {
   "cell_type": "markdown",
   "id": "fbe07a09",
   "metadata": {},
   "source": [
    "Read the datasets"
   ]
  },
  {
   "cell_type": "code",
   "execution_count": 2,
   "id": "52b534fb",
   "metadata": {},
   "outputs": [],
   "source": [
    "data_path1 = (r\"C:\\Users\\black\\vanilla-steel-assessment\\data\\supplier_data1.xlsx\")\n",
    "data_path2 = (r\"C:\\Users\\black\\vanilla-steel-assessment\\data\\supplier_data2.xlsx\")"
   ]
  },
  {
   "cell_type": "code",
   "execution_count": 3,
   "id": "e3df84b2",
   "metadata": {},
   "outputs": [],
   "source": [
    "raw_supplier1 = pd.read_excel(data_path1)\n",
    "raw_supplier2 = pd.read_excel(data_path2)"
   ]
  },
  {
   "cell_type": "code",
   "execution_count": 4,
   "id": "c43dbcb1",
   "metadata": {},
   "outputs": [
    {
     "data": {
      "application/vnd.microsoft.datawrangler.viewer.v0+json": {
       "columns": [
        {
         "name": "index",
         "rawType": "int64",
         "type": "integer"
        },
        {
         "name": "Quality/Choice",
         "rawType": "object",
         "type": "string"
        },
        {
         "name": "Grade",
         "rawType": "object",
         "type": "string"
        },
        {
         "name": "Finish",
         "rawType": "object",
         "type": "string"
        },
        {
         "name": "Thickness (mm)",
         "rawType": "float64",
         "type": "float"
        },
        {
         "name": "Width (mm)",
         "rawType": "int64",
         "type": "integer"
        },
        {
         "name": "Description",
         "rawType": "object",
         "type": "string"
        },
        {
         "name": "Gross weight (kg)",
         "rawType": "int64",
         "type": "integer"
        },
        {
         "name": "RP02",
         "rawType": "float64",
         "type": "float"
        },
        {
         "name": "RM",
         "rawType": "float64",
         "type": "float"
        },
        {
         "name": "Quantity",
         "rawType": "float64",
         "type": "float"
        },
        {
         "name": "AG",
         "rawType": "float64",
         "type": "float"
        },
        {
         "name": "AI",
         "rawType": "float64",
         "type": "float"
        }
       ],
       "ref": "0e96e450-ba64-4cfa-8332-20c5287d8b81",
       "rows": [
        [
         "0",
         "3rd",
         "C200S",
         "gebeizt und geglüht",
         "2.77",
         "1100",
         "Längs- oder Querisse",
         "13983",
         "333.6",
         "606.2",
         "0.0",
         "16.11",
         "0.0054"
        ],
        [
         "1",
         "3rd",
         "C300S",
         "ungebeizt",
         "2.65",
         "1075",
         "Längs- oder Querisse",
         "13047",
         "717.7",
         "0.0",
         "0.0",
         "16.11",
         "0.0046"
        ],
        [
         "2",
         "3rd",
         "C100S",
         "gebeizt und geglüht",
         "2.2",
         "1100",
         "Kantenfehler - FS-Kantenrisse",
         "14155",
         "368.9",
         "0.0",
         "10.84",
         "0.0",
         "0.0061"
        ],
        [
         "3",
         "2nd",
         "C100S",
         "gebeizt",
         "2.86",
         "1100",
         "Längs- oder Querisse",
         "11381",
         "368.9",
         "601.7",
         "22.87",
         "0.0",
         "0.0062"
        ],
        [
         "4",
         "1st",
         "C300S",
         "ungebeizt",
         "2.88",
         "1050",
         "Sollmasse (Gewicht) unterschritten",
         "10072",
         "0.0",
         "1213.0",
         "22.87",
         "0.0",
         "0.0041"
        ]
       ],
       "shape": {
        "columns": 12,
        "rows": 5
       }
      },
      "text/html": [
       "<div>\n",
       "<style scoped>\n",
       "    .dataframe tbody tr th:only-of-type {\n",
       "        vertical-align: middle;\n",
       "    }\n",
       "\n",
       "    .dataframe tbody tr th {\n",
       "        vertical-align: top;\n",
       "    }\n",
       "\n",
       "    .dataframe thead th {\n",
       "        text-align: right;\n",
       "    }\n",
       "</style>\n",
       "<table border=\"1\" class=\"dataframe\">\n",
       "  <thead>\n",
       "    <tr style=\"text-align: right;\">\n",
       "      <th></th>\n",
       "      <th>Quality/Choice</th>\n",
       "      <th>Grade</th>\n",
       "      <th>Finish</th>\n",
       "      <th>Thickness (mm)</th>\n",
       "      <th>Width (mm)</th>\n",
       "      <th>Description</th>\n",
       "      <th>Gross weight (kg)</th>\n",
       "      <th>RP02</th>\n",
       "      <th>RM</th>\n",
       "      <th>Quantity</th>\n",
       "      <th>AG</th>\n",
       "      <th>AI</th>\n",
       "    </tr>\n",
       "  </thead>\n",
       "  <tbody>\n",
       "    <tr>\n",
       "      <th>0</th>\n",
       "      <td>3rd</td>\n",
       "      <td>C200S</td>\n",
       "      <td>gebeizt und geglüht</td>\n",
       "      <td>2.77</td>\n",
       "      <td>1100</td>\n",
       "      <td>Längs- oder Querisse</td>\n",
       "      <td>13983</td>\n",
       "      <td>333.6</td>\n",
       "      <td>606.2</td>\n",
       "      <td>0.00</td>\n",
       "      <td>16.11</td>\n",
       "      <td>0.0054</td>\n",
       "    </tr>\n",
       "    <tr>\n",
       "      <th>1</th>\n",
       "      <td>3rd</td>\n",
       "      <td>C300S</td>\n",
       "      <td>ungebeizt</td>\n",
       "      <td>2.65</td>\n",
       "      <td>1075</td>\n",
       "      <td>Längs- oder Querisse</td>\n",
       "      <td>13047</td>\n",
       "      <td>717.7</td>\n",
       "      <td>0.0</td>\n",
       "      <td>0.00</td>\n",
       "      <td>16.11</td>\n",
       "      <td>0.0046</td>\n",
       "    </tr>\n",
       "    <tr>\n",
       "      <th>2</th>\n",
       "      <td>3rd</td>\n",
       "      <td>C100S</td>\n",
       "      <td>gebeizt und geglüht</td>\n",
       "      <td>2.20</td>\n",
       "      <td>1100</td>\n",
       "      <td>Kantenfehler - FS-Kantenrisse</td>\n",
       "      <td>14155</td>\n",
       "      <td>368.9</td>\n",
       "      <td>0.0</td>\n",
       "      <td>10.84</td>\n",
       "      <td>0.00</td>\n",
       "      <td>0.0061</td>\n",
       "    </tr>\n",
       "    <tr>\n",
       "      <th>3</th>\n",
       "      <td>2nd</td>\n",
       "      <td>C100S</td>\n",
       "      <td>gebeizt</td>\n",
       "      <td>2.86</td>\n",
       "      <td>1100</td>\n",
       "      <td>Längs- oder Querisse</td>\n",
       "      <td>11381</td>\n",
       "      <td>368.9</td>\n",
       "      <td>601.7</td>\n",
       "      <td>22.87</td>\n",
       "      <td>0.00</td>\n",
       "      <td>0.0062</td>\n",
       "    </tr>\n",
       "    <tr>\n",
       "      <th>4</th>\n",
       "      <td>1st</td>\n",
       "      <td>C300S</td>\n",
       "      <td>ungebeizt</td>\n",
       "      <td>2.88</td>\n",
       "      <td>1050</td>\n",
       "      <td>Sollmasse (Gewicht) unterschritten</td>\n",
       "      <td>10072</td>\n",
       "      <td>0.0</td>\n",
       "      <td>1213.0</td>\n",
       "      <td>22.87</td>\n",
       "      <td>0.00</td>\n",
       "      <td>0.0041</td>\n",
       "    </tr>\n",
       "  </tbody>\n",
       "</table>\n",
       "</div>"
      ],
      "text/plain": [
       "  Quality/Choice  Grade               Finish  Thickness (mm)  Width (mm)  \\\n",
       "0            3rd  C200S  gebeizt und geglüht            2.77        1100   \n",
       "1            3rd  C300S            ungebeizt            2.65        1075   \n",
       "2            3rd  C100S  gebeizt und geglüht            2.20        1100   \n",
       "3            2nd  C100S              gebeizt            2.86        1100   \n",
       "4            1st  C300S            ungebeizt            2.88        1050   \n",
       "\n",
       "                          Description  Gross weight (kg)   RP02      RM  \\\n",
       "0                Längs- oder Querisse              13983  333.6   606.2   \n",
       "1                Längs- oder Querisse              13047  717.7     0.0   \n",
       "2       Kantenfehler - FS-Kantenrisse              14155  368.9     0.0   \n",
       "3                Längs- oder Querisse              11381  368.9   601.7   \n",
       "4  Sollmasse (Gewicht) unterschritten              10072    0.0  1213.0   \n",
       "\n",
       "   Quantity     AG      AI  \n",
       "0      0.00  16.11  0.0054  \n",
       "1      0.00  16.11  0.0046  \n",
       "2     10.84   0.00  0.0061  \n",
       "3     22.87   0.00  0.0062  \n",
       "4     22.87   0.00  0.0041  "
      ]
     },
     "execution_count": 4,
     "metadata": {},
     "output_type": "execute_result"
    }
   ],
   "source": [
    "raw_supplier1.head()"
   ]
  },
  {
   "cell_type": "markdown",
   "id": "07556499",
   "metadata": {},
   "source": [
    "supplier1"
   ]
  },
  {
   "cell_type": "code",
   "execution_count": null,
   "id": "5f3f5103",
   "metadata": {},
   "outputs": [],
   "source": [
    "# Rename columns to clean english names\n",
    "rename_map = {\n",
    "    'Quality/Choice': 'quality',\n",
    "    'Grade': 'grade',\n",
    "    'Finish': 'finish',\n",
    "    'Thickness (mm)': 'thickness_mm',\n",
    "    'Width (mm)': 'width_mm',\n",
    "    'Description': 'description',\n",
    "    'Gross weight (kg)': 'weight_kg',\n",
    "    'Quantity': 'quantity',\n",
    "    'RP02': 'rp02',\n",
    "    'RM': 'rm',\n",
    "    'AG': 'ag',\n",
    "    'AI': 'ai'\n",
    "}\n",
    "\n",
    "raw_supplier1.rename(columns=rename_map, inplace=True)"
   ]
  },
  {
   "cell_type": "code",
   "execution_count": null,
   "id": "b57d4541",
   "metadata": {},
   "outputs": [],
   "source": [
    "# Convert numeric fields\n",
    "numeric_cols = ['thickness_mm', 'width_mm', 'gross_weight_kg', 'quantity', 'rp02', 'rm', 'ag', 'ai']\n",
    "\n",
    "for col in numeric_cols:\n",
    "    if col in raw_supplier1.columns:\n",
    "        raw_supplier1[col] = (\n",
    "            raw_supplier1[col]\n",
    "            .astype(str)\n",
    "            .str.replace(\",\", \".\", regex=False)   # Fix comma decimals \n",
    "            .str.extract(r\"([\\d.]+)\")             # Extract numeric part \n",
    "            .astype(float)\n",
    "        )"
   ]
  },
  {
   "cell_type": "code",
   "execution_count": null,
   "id": "cd98f6c1",
   "metadata": {},
   "outputs": [],
   "source": [
    "raw_supplier1[\"data_source\"] = \"supplier1\""
   ]
  },
  {
   "cell_type": "code",
   "execution_count": 8,
   "id": "bf528653",
   "metadata": {},
   "outputs": [
    {
     "data": {
      "application/vnd.microsoft.datawrangler.viewer.v0+json": {
       "columns": [
        {
         "name": "index",
         "rawType": "int64",
         "type": "integer"
        },
        {
         "name": "quality",
         "rawType": "object",
         "type": "string"
        },
        {
         "name": "grade",
         "rawType": "object",
         "type": "string"
        },
        {
         "name": "finish",
         "rawType": "object",
         "type": "string"
        },
        {
         "name": "thickness_mm",
         "rawType": "float64",
         "type": "float"
        },
        {
         "name": "width_mm",
         "rawType": "float64",
         "type": "float"
        },
        {
         "name": "description",
         "rawType": "object",
         "type": "string"
        },
        {
         "name": "weight_kg",
         "rawType": "int64",
         "type": "integer"
        },
        {
         "name": "rp02",
         "rawType": "float64",
         "type": "float"
        },
        {
         "name": "rm",
         "rawType": "float64",
         "type": "float"
        },
        {
         "name": "quantity",
         "rawType": "float64",
         "type": "float"
        },
        {
         "name": "ag",
         "rawType": "float64",
         "type": "float"
        },
        {
         "name": "ai",
         "rawType": "float64",
         "type": "float"
        },
        {
         "name": "data_source",
         "rawType": "object",
         "type": "string"
        }
       ],
       "ref": "bccad4c3-27ec-410f-80a6-d3f8e8c77215",
       "rows": [
        [
         "0",
         "3rd",
         "C200S",
         "gebeizt und geglüht",
         "2.77",
         "1100.0",
         "Längs- oder Querisse",
         "13983",
         "333.6",
         "606.2",
         "0.0",
         "16.11",
         "0.0054",
         "supplier1"
        ],
        [
         "1",
         "3rd",
         "C300S",
         "ungebeizt",
         "2.65",
         "1075.0",
         "Längs- oder Querisse",
         "13047",
         "717.7",
         "0.0",
         "0.0",
         "16.11",
         "0.0046",
         "supplier1"
        ],
        [
         "2",
         "3rd",
         "C100S",
         "gebeizt und geglüht",
         "2.2",
         "1100.0",
         "Kantenfehler - FS-Kantenrisse",
         "14155",
         "368.9",
         "0.0",
         "10.84",
         "0.0",
         "0.0061",
         "supplier1"
        ],
        [
         "3",
         "2nd",
         "C100S",
         "gebeizt",
         "2.86",
         "1100.0",
         "Längs- oder Querisse",
         "11381",
         "368.9",
         "601.7",
         "22.87",
         "0.0",
         "0.0062",
         "supplier1"
        ],
        [
         "4",
         "1st",
         "C300S",
         "ungebeizt",
         "2.88",
         "1050.0",
         "Sollmasse (Gewicht) unterschritten",
         "10072",
         "0.0",
         "1213.0",
         "22.87",
         "0.0",
         "0.0041",
         "supplier1"
        ]
       ],
       "shape": {
        "columns": 13,
        "rows": 5
       }
      },
      "text/html": [
       "<div>\n",
       "<style scoped>\n",
       "    .dataframe tbody tr th:only-of-type {\n",
       "        vertical-align: middle;\n",
       "    }\n",
       "\n",
       "    .dataframe tbody tr th {\n",
       "        vertical-align: top;\n",
       "    }\n",
       "\n",
       "    .dataframe thead th {\n",
       "        text-align: right;\n",
       "    }\n",
       "</style>\n",
       "<table border=\"1\" class=\"dataframe\">\n",
       "  <thead>\n",
       "    <tr style=\"text-align: right;\">\n",
       "      <th></th>\n",
       "      <th>quality</th>\n",
       "      <th>grade</th>\n",
       "      <th>finish</th>\n",
       "      <th>thickness_mm</th>\n",
       "      <th>width_mm</th>\n",
       "      <th>description</th>\n",
       "      <th>weight_kg</th>\n",
       "      <th>rp02</th>\n",
       "      <th>rm</th>\n",
       "      <th>quantity</th>\n",
       "      <th>ag</th>\n",
       "      <th>ai</th>\n",
       "      <th>data_source</th>\n",
       "    </tr>\n",
       "  </thead>\n",
       "  <tbody>\n",
       "    <tr>\n",
       "      <th>0</th>\n",
       "      <td>3rd</td>\n",
       "      <td>C200S</td>\n",
       "      <td>gebeizt und geglüht</td>\n",
       "      <td>2.77</td>\n",
       "      <td>1100.0</td>\n",
       "      <td>Längs- oder Querisse</td>\n",
       "      <td>13983</td>\n",
       "      <td>333.6</td>\n",
       "      <td>606.2</td>\n",
       "      <td>0.00</td>\n",
       "      <td>16.11</td>\n",
       "      <td>0.0054</td>\n",
       "      <td>supplier1</td>\n",
       "    </tr>\n",
       "    <tr>\n",
       "      <th>1</th>\n",
       "      <td>3rd</td>\n",
       "      <td>C300S</td>\n",
       "      <td>ungebeizt</td>\n",
       "      <td>2.65</td>\n",
       "      <td>1075.0</td>\n",
       "      <td>Längs- oder Querisse</td>\n",
       "      <td>13047</td>\n",
       "      <td>717.7</td>\n",
       "      <td>0.0</td>\n",
       "      <td>0.00</td>\n",
       "      <td>16.11</td>\n",
       "      <td>0.0046</td>\n",
       "      <td>supplier1</td>\n",
       "    </tr>\n",
       "    <tr>\n",
       "      <th>2</th>\n",
       "      <td>3rd</td>\n",
       "      <td>C100S</td>\n",
       "      <td>gebeizt und geglüht</td>\n",
       "      <td>2.20</td>\n",
       "      <td>1100.0</td>\n",
       "      <td>Kantenfehler - FS-Kantenrisse</td>\n",
       "      <td>14155</td>\n",
       "      <td>368.9</td>\n",
       "      <td>0.0</td>\n",
       "      <td>10.84</td>\n",
       "      <td>0.00</td>\n",
       "      <td>0.0061</td>\n",
       "      <td>supplier1</td>\n",
       "    </tr>\n",
       "    <tr>\n",
       "      <th>3</th>\n",
       "      <td>2nd</td>\n",
       "      <td>C100S</td>\n",
       "      <td>gebeizt</td>\n",
       "      <td>2.86</td>\n",
       "      <td>1100.0</td>\n",
       "      <td>Längs- oder Querisse</td>\n",
       "      <td>11381</td>\n",
       "      <td>368.9</td>\n",
       "      <td>601.7</td>\n",
       "      <td>22.87</td>\n",
       "      <td>0.00</td>\n",
       "      <td>0.0062</td>\n",
       "      <td>supplier1</td>\n",
       "    </tr>\n",
       "    <tr>\n",
       "      <th>4</th>\n",
       "      <td>1st</td>\n",
       "      <td>C300S</td>\n",
       "      <td>ungebeizt</td>\n",
       "      <td>2.88</td>\n",
       "      <td>1050.0</td>\n",
       "      <td>Sollmasse (Gewicht) unterschritten</td>\n",
       "      <td>10072</td>\n",
       "      <td>0.0</td>\n",
       "      <td>1213.0</td>\n",
       "      <td>22.87</td>\n",
       "      <td>0.00</td>\n",
       "      <td>0.0041</td>\n",
       "      <td>supplier1</td>\n",
       "    </tr>\n",
       "  </tbody>\n",
       "</table>\n",
       "</div>"
      ],
      "text/plain": [
       "  quality  grade               finish  thickness_mm  width_mm  \\\n",
       "0     3rd  C200S  gebeizt und geglüht          2.77    1100.0   \n",
       "1     3rd  C300S            ungebeizt          2.65    1075.0   \n",
       "2     3rd  C100S  gebeizt und geglüht          2.20    1100.0   \n",
       "3     2nd  C100S              gebeizt          2.86    1100.0   \n",
       "4     1st  C300S            ungebeizt          2.88    1050.0   \n",
       "\n",
       "                          description  weight_kg   rp02      rm  quantity  \\\n",
       "0                Längs- oder Querisse      13983  333.6   606.2      0.00   \n",
       "1                Längs- oder Querisse      13047  717.7     0.0      0.00   \n",
       "2       Kantenfehler - FS-Kantenrisse      14155  368.9     0.0     10.84   \n",
       "3                Längs- oder Querisse      11381  368.9   601.7     22.87   \n",
       "4  Sollmasse (Gewicht) unterschritten      10072    0.0  1213.0     22.87   \n",
       "\n",
       "      ag      ai data_source  \n",
       "0  16.11  0.0054   supplier1  \n",
       "1  16.11  0.0046   supplier1  \n",
       "2   0.00  0.0061   supplier1  \n",
       "3   0.00  0.0062   supplier1  \n",
       "4   0.00  0.0041   supplier1  "
      ]
     },
     "execution_count": 8,
     "metadata": {},
     "output_type": "execute_result"
    }
   ],
   "source": [
    "# Preview\n",
    "raw_supplier1.head()"
   ]
  },
  {
   "cell_type": "markdown",
   "id": "bd0f86a5",
   "metadata": {},
   "source": [
    "supplier2"
   ]
  },
  {
   "cell_type": "code",
   "execution_count": 9,
   "id": "50731b07",
   "metadata": {},
   "outputs": [],
   "source": [
    "# Rename columns to match our unified format\n",
    "rename_map = {\n",
    "    'Material': 'material',\n",
    "    'Description': 'description',\n",
    "    'Article ID': 'article_id',\n",
    "    'Weight (kg)': 'weight_kg',\n",
    "    'Quantity': 'quantity',\n",
    "    'Reserved': 'reserved'\n",
    "}\n",
    "\n",
    "raw_supplier2.rename(columns=rename_map, inplace=True)"
   ]
  },
  {
   "cell_type": "code",
   "execution_count": null,
   "id": "ad594789",
   "metadata": {},
   "outputs": [],
   "source": [
    "# Clean numeric columns\n",
    "numeric_cols = ['gross_weight_kg', 'quantity']\n",
    "\n",
    "for col in numeric_cols:\n",
    "    if col in raw_supplier2.columns:\n",
    "        raw_supplier2[col] = (\n",
    "            raw_supplier2[col]\n",
    "            .astype(str)\n",
    "            .str.replace(\",\", \".\", regex=False)\n",
    "            .str.extract(r\"([\\d.]+)\")\n",
    "            .astype(float)\n",
    "        )"
   ]
  },
  {
   "cell_type": "code",
   "execution_count": 11,
   "id": "ec1fdc3c",
   "metadata": {},
   "outputs": [],
   "source": [
    "# Normalize reserved column\n",
    "raw_supplier2[\"reserved\"] = raw_supplier2[\"reserved\"].astype(str).str.lower().map({\n",
    "    \"true\": True,\n",
    "    \"yes\": True,\n",
    "    \"false\": False,\n",
    "    \"no\": False\n",
    "}).fillna(False)"
   ]
  },
  {
   "cell_type": "code",
   "execution_count": null,
   "id": "8d6a8399",
   "metadata": {},
   "outputs": [],
   "source": [
    "raw_supplier2[\"data_source\"] = \"supplier2\""
   ]
  },
  {
   "cell_type": "code",
   "execution_count": 13,
   "id": "f4901a2a",
   "metadata": {},
   "outputs": [
    {
     "data": {
      "application/vnd.microsoft.datawrangler.viewer.v0+json": {
       "columns": [
        {
         "name": "index",
         "rawType": "int64",
         "type": "integer"
        },
        {
         "name": "material",
         "rawType": "object",
         "type": "string"
        },
        {
         "name": "description",
         "rawType": "object",
         "type": "string"
        },
        {
         "name": "article_id",
         "rawType": "int64",
         "type": "integer"
        },
        {
         "name": "weight_kg",
         "rawType": "int64",
         "type": "integer"
        },
        {
         "name": "quantity",
         "rawType": "float64",
         "type": "float"
        },
        {
         "name": "reserved",
         "rawType": "bool",
         "type": "boolean"
        },
        {
         "name": "data_source",
         "rawType": "object",
         "type": "string"
        }
       ],
       "ref": "d2d83e24-cfa7-4c48-a428-533f68b271f1",
       "rows": [
        [
         "0",
         "HDC",
         "Material is Oiled",
         "23048203",
         "24469",
         "52.0",
         "False",
         "supplier2"
        ],
        [
         "1",
         "S235JR",
         "Material is Oiled",
         "23040547",
         "16984",
         "41.0",
         "False",
         "supplier2"
        ],
        [
         "2",
         "S235JR",
         "Material is Painted",
         "23046057",
         "9162",
         "28.0",
         "False",
         "supplier2"
        ],
        [
         "3",
         "DX51D +AZ150",
         "Material is Oiled",
         "23041966",
         "12119",
         "66.0",
         "False",
         "supplier2"
        ],
        [
         "4",
         "HDC",
         "Material is Painted",
         "23043884",
         "17260",
         "26.0",
         "False",
         "supplier2"
        ]
       ],
       "shape": {
        "columns": 7,
        "rows": 5
       }
      },
      "text/html": [
       "<div>\n",
       "<style scoped>\n",
       "    .dataframe tbody tr th:only-of-type {\n",
       "        vertical-align: middle;\n",
       "    }\n",
       "\n",
       "    .dataframe tbody tr th {\n",
       "        vertical-align: top;\n",
       "    }\n",
       "\n",
       "    .dataframe thead th {\n",
       "        text-align: right;\n",
       "    }\n",
       "</style>\n",
       "<table border=\"1\" class=\"dataframe\">\n",
       "  <thead>\n",
       "    <tr style=\"text-align: right;\">\n",
       "      <th></th>\n",
       "      <th>material</th>\n",
       "      <th>description</th>\n",
       "      <th>article_id</th>\n",
       "      <th>weight_kg</th>\n",
       "      <th>quantity</th>\n",
       "      <th>reserved</th>\n",
       "      <th>data_source</th>\n",
       "    </tr>\n",
       "  </thead>\n",
       "  <tbody>\n",
       "    <tr>\n",
       "      <th>0</th>\n",
       "      <td>HDC</td>\n",
       "      <td>Material is Oiled</td>\n",
       "      <td>23048203</td>\n",
       "      <td>24469</td>\n",
       "      <td>52.0</td>\n",
       "      <td>False</td>\n",
       "      <td>supplier2</td>\n",
       "    </tr>\n",
       "    <tr>\n",
       "      <th>1</th>\n",
       "      <td>S235JR</td>\n",
       "      <td>Material is Oiled</td>\n",
       "      <td>23040547</td>\n",
       "      <td>16984</td>\n",
       "      <td>41.0</td>\n",
       "      <td>False</td>\n",
       "      <td>supplier2</td>\n",
       "    </tr>\n",
       "    <tr>\n",
       "      <th>2</th>\n",
       "      <td>S235JR</td>\n",
       "      <td>Material is Painted</td>\n",
       "      <td>23046057</td>\n",
       "      <td>9162</td>\n",
       "      <td>28.0</td>\n",
       "      <td>False</td>\n",
       "      <td>supplier2</td>\n",
       "    </tr>\n",
       "    <tr>\n",
       "      <th>3</th>\n",
       "      <td>DX51D +AZ150</td>\n",
       "      <td>Material is Oiled</td>\n",
       "      <td>23041966</td>\n",
       "      <td>12119</td>\n",
       "      <td>66.0</td>\n",
       "      <td>False</td>\n",
       "      <td>supplier2</td>\n",
       "    </tr>\n",
       "    <tr>\n",
       "      <th>4</th>\n",
       "      <td>HDC</td>\n",
       "      <td>Material is Painted</td>\n",
       "      <td>23043884</td>\n",
       "      <td>17260</td>\n",
       "      <td>26.0</td>\n",
       "      <td>False</td>\n",
       "      <td>supplier2</td>\n",
       "    </tr>\n",
       "  </tbody>\n",
       "</table>\n",
       "</div>"
      ],
      "text/plain": [
       "       material          description  article_id  weight_kg  quantity  \\\n",
       "0           HDC    Material is Oiled    23048203      24469      52.0   \n",
       "1        S235JR    Material is Oiled    23040547      16984      41.0   \n",
       "2        S235JR  Material is Painted    23046057       9162      28.0   \n",
       "3  DX51D +AZ150    Material is Oiled    23041966      12119      66.0   \n",
       "4           HDC  Material is Painted    23043884      17260      26.0   \n",
       "\n",
       "   reserved data_source  \n",
       "0     False   supplier2  \n",
       "1     False   supplier2  \n",
       "2     False   supplier2  \n",
       "3     False   supplier2  \n",
       "4     False   supplier2  "
      ]
     },
     "execution_count": 13,
     "metadata": {},
     "output_type": "execute_result"
    }
   ],
   "source": [
    "raw_supplier2.head()"
   ]
  },
  {
   "cell_type": "code",
   "execution_count": 14,
   "id": "4c80ad57",
   "metadata": {},
   "outputs": [
    {
     "name": "stdout",
     "output_type": "stream",
     "text": [
      "<class 'pandas.core.frame.DataFrame'>\n",
      "RangeIndex: 50 entries, 0 to 49\n",
      "Data columns (total 13 columns):\n",
      " #   Column        Non-Null Count  Dtype  \n",
      "---  ------        --------------  -----  \n",
      " 0   quality       50 non-null     object \n",
      " 1   grade         50 non-null     object \n",
      " 2   finish        50 non-null     object \n",
      " 3   thickness_mm  50 non-null     float64\n",
      " 4   width_mm      50 non-null     float64\n",
      " 5   description   50 non-null     object \n",
      " 6   weight_kg     50 non-null     int64  \n",
      " 7   rp02          50 non-null     float64\n",
      " 8   rm            50 non-null     float64\n",
      " 9   quantity      50 non-null     float64\n",
      " 10  ag            50 non-null     float64\n",
      " 11  ai            50 non-null     float64\n",
      " 12  data_source   50 non-null     object \n",
      "dtypes: float64(7), int64(1), object(5)\n",
      "memory usage: 5.2+ KB\n"
     ]
    }
   ],
   "source": [
    "raw_supplier1.info()"
   ]
  },
  {
   "cell_type": "code",
   "execution_count": 15,
   "id": "8ceb4ead",
   "metadata": {},
   "outputs": [
    {
     "data": {
      "text/plain": [
       "np.int64(0)"
      ]
     },
     "execution_count": 15,
     "metadata": {},
     "output_type": "execute_result"
    }
   ],
   "source": [
    "raw_supplier1.duplicated().sum()"
   ]
  },
  {
   "cell_type": "code",
   "execution_count": 16,
   "id": "e8024366",
   "metadata": {},
   "outputs": [
    {
     "data": {
      "text/plain": [
       "np.int64(0)"
      ]
     },
     "execution_count": 16,
     "metadata": {},
     "output_type": "execute_result"
    }
   ],
   "source": [
    "raw_supplier2.duplicated().sum()"
   ]
  },
  {
   "cell_type": "code",
   "execution_count": 17,
   "id": "a770acd9",
   "metadata": {},
   "outputs": [
    {
     "data": {
      "application/vnd.microsoft.datawrangler.viewer.v0+json": {
       "columns": [
        {
         "name": "index",
         "rawType": "object",
         "type": "string"
        },
        {
         "name": "0",
         "rawType": "int64",
         "type": "integer"
        }
       ],
       "ref": "adaf4d7a-f265-46a2-b149-bbcc71766006",
       "rows": [
        [
         "quality",
         "0"
        ],
        [
         "grade",
         "0"
        ],
        [
         "finish",
         "0"
        ],
        [
         "thickness_mm",
         "0"
        ],
        [
         "width_mm",
         "0"
        ],
        [
         "description",
         "0"
        ],
        [
         "weight_kg",
         "0"
        ],
        [
         "rp02",
         "0"
        ],
        [
         "rm",
         "0"
        ],
        [
         "quantity",
         "0"
        ],
        [
         "ag",
         "0"
        ],
        [
         "ai",
         "0"
        ],
        [
         "data_source",
         "0"
        ]
       ],
       "shape": {
        "columns": 1,
        "rows": 13
       }
      },
      "text/plain": [
       "quality         0\n",
       "grade           0\n",
       "finish          0\n",
       "thickness_mm    0\n",
       "width_mm        0\n",
       "description     0\n",
       "weight_kg       0\n",
       "rp02            0\n",
       "rm              0\n",
       "quantity        0\n",
       "ag              0\n",
       "ai              0\n",
       "data_source     0\n",
       "dtype: int64"
      ]
     },
     "execution_count": 17,
     "metadata": {},
     "output_type": "execute_result"
    }
   ],
   "source": [
    "raw_supplier1.isnull().sum()"
   ]
  },
  {
   "cell_type": "code",
   "execution_count": 18,
   "id": "6640812b",
   "metadata": {},
   "outputs": [
    {
     "name": "stdout",
     "output_type": "stream",
     "text": [
      "\n",
      "quality (3 unique):\n",
      "['3rd' '2nd' '1st']\n",
      "\n",
      "grade (3 unique):\n",
      "['C200S' 'C300S' 'C100S']\n",
      "\n",
      "finish (3 unique):\n",
      "['gebeizt und geglüht' 'ungebeizt' 'gebeizt']\n",
      "\n",
      "thickness_mm (39 unique):\n",
      "[2.77 2.65 2.2  2.86 2.88 2.51 2.69 2.98 2.03 2.54 2.31 2.55 2.52 2.46\n",
      " 2.74 2.27 2.08 2.29 2.19 2.14 2.84 2.22 2.83 2.32 2.48 2.21 2.75 2.89\n",
      " 2.53 2.18 2.43 2.82 2.8  2.01 2.3  2.12 2.37 2.72 2.79]\n",
      "\n",
      "width_mm (5 unique):\n",
      "[1100. 1075. 1050. 1000. 1150.]\n",
      "\n",
      "description (3 unique):\n",
      "['Längs- oder Querisse' 'Kantenfehler - FS-Kantenrisse'\n",
      " 'Sollmasse (Gewicht) unterschritten']\n",
      "\n",
      "weight_kg (50 unique):\n",
      "[13983 13047 14155 11381 10072 12863  8936  9810  5491 11415 14758 13400\n",
      " 12787  8391 10409  5951  8240 14139  7304 13518 12010  6665 14839 10959\n",
      " 14688  5979 10499 10723 10262  8118  5011  8410  5124 12071 13321  7968\n",
      " 12702  5915  8047  7772  9995  9774 11360  8261  9110 13667  6947  8786\n",
      " 14311  8048]\n",
      "\n",
      "rp02 (4 unique):\n",
      "[333.6 717.7 368.9   0. ]\n",
      "\n",
      "rm (4 unique):\n",
      "[ 606.2    0.   601.7 1213. ]\n",
      "\n",
      "quantity (4 unique):\n",
      "[ 0.   10.84 22.87 25.46]\n",
      "\n",
      "ag (4 unique):\n",
      "[16.11   0.    15.05   6.858]\n",
      "\n",
      "ai (26 unique):\n",
      "[0.0054 0.0046 0.0061 0.0062 0.0041 0.0059 0.0066 0.0042 0.0064 0.0067\n",
      " 0.0047 0.005  0.0053 0.0068 0.0055 0.0051 0.0057 0.0065 0.0049 0.0069\n",
      " 0.0048 0.0045 0.0058 0.007  0.0063 0.0052]\n",
      "\n",
      "data_source (1 unique):\n",
      "['supplier1']\n"
     ]
    }
   ],
   "source": [
    "#unique values per column in supplier1\n",
    "for col in raw_supplier1.columns:\n",
    "    print(f\"\\n{col} ({raw_supplier1[col].nunique(dropna=False)} unique):\")\n",
    "    print(raw_supplier1[col].unique())"
   ]
  },
  {
   "cell_type": "code",
   "execution_count": 19,
   "id": "ae40f99d",
   "metadata": {},
   "outputs": [
    {
     "data": {
      "application/vnd.microsoft.datawrangler.viewer.v0+json": {
       "columns": [
        {
         "name": "index",
         "rawType": "object",
         "type": "string"
        },
        {
         "name": "0",
         "rawType": "int64",
         "type": "integer"
        }
       ],
       "ref": "32be1d5b-7a78-4ff6-8ace-aaae229c3148",
       "rows": [
        [
         "material",
         "0"
        ],
        [
         "description",
         "0"
        ],
        [
         "article_id",
         "0"
        ],
        [
         "weight_kg",
         "0"
        ],
        [
         "quantity",
         "0"
        ],
        [
         "reserved",
         "0"
        ],
        [
         "data_source",
         "0"
        ]
       ],
       "shape": {
        "columns": 1,
        "rows": 7
       }
      },
      "text/plain": [
       "material       0\n",
       "description    0\n",
       "article_id     0\n",
       "weight_kg      0\n",
       "quantity       0\n",
       "reserved       0\n",
       "data_source    0\n",
       "dtype: int64"
      ]
     },
     "execution_count": 19,
     "metadata": {},
     "output_type": "execute_result"
    }
   ],
   "source": [
    "raw_supplier2.isnull().sum()"
   ]
  },
  {
   "cell_type": "code",
   "execution_count": 20,
   "id": "b3ab9dd0",
   "metadata": {},
   "outputs": [
    {
     "data": {
      "application/vnd.microsoft.datawrangler.viewer.v0+json": {
       "columns": [
        {
         "name": "index",
         "rawType": "int64",
         "type": "integer"
        },
        {
         "name": "material",
         "rawType": "object",
         "type": "string"
        },
        {
         "name": "description",
         "rawType": "object",
         "type": "string"
        },
        {
         "name": "article_id",
         "rawType": "int64",
         "type": "integer"
        },
        {
         "name": "weight_kg",
         "rawType": "int64",
         "type": "integer"
        },
        {
         "name": "quantity",
         "rawType": "float64",
         "type": "float"
        },
        {
         "name": "reserved",
         "rawType": "bool",
         "type": "boolean"
        },
        {
         "name": "data_source",
         "rawType": "object",
         "type": "string"
        }
       ],
       "ref": "42f27ef8-0515-49d9-a147-9447e396fd8a",
       "rows": [
        [
         "0",
         "HDC",
         "Material is Oiled",
         "23048203",
         "24469",
         "52.0",
         "False",
         "supplier2"
        ],
        [
         "1",
         "S235JR",
         "Material is Oiled",
         "23040547",
         "16984",
         "41.0",
         "False",
         "supplier2"
        ],
        [
         "2",
         "S235JR",
         "Material is Painted",
         "23046057",
         "9162",
         "28.0",
         "False",
         "supplier2"
        ],
        [
         "3",
         "DX51D +AZ150",
         "Material is Oiled",
         "23041966",
         "12119",
         "66.0",
         "False",
         "supplier2"
        ],
        [
         "4",
         "HDC",
         "Material is Painted",
         "23043884",
         "17260",
         "26.0",
         "False",
         "supplier2"
        ]
       ],
       "shape": {
        "columns": 7,
        "rows": 5
       }
      },
      "text/html": [
       "<div>\n",
       "<style scoped>\n",
       "    .dataframe tbody tr th:only-of-type {\n",
       "        vertical-align: middle;\n",
       "    }\n",
       "\n",
       "    .dataframe tbody tr th {\n",
       "        vertical-align: top;\n",
       "    }\n",
       "\n",
       "    .dataframe thead th {\n",
       "        text-align: right;\n",
       "    }\n",
       "</style>\n",
       "<table border=\"1\" class=\"dataframe\">\n",
       "  <thead>\n",
       "    <tr style=\"text-align: right;\">\n",
       "      <th></th>\n",
       "      <th>material</th>\n",
       "      <th>description</th>\n",
       "      <th>article_id</th>\n",
       "      <th>weight_kg</th>\n",
       "      <th>quantity</th>\n",
       "      <th>reserved</th>\n",
       "      <th>data_source</th>\n",
       "    </tr>\n",
       "  </thead>\n",
       "  <tbody>\n",
       "    <tr>\n",
       "      <th>0</th>\n",
       "      <td>HDC</td>\n",
       "      <td>Material is Oiled</td>\n",
       "      <td>23048203</td>\n",
       "      <td>24469</td>\n",
       "      <td>52.0</td>\n",
       "      <td>False</td>\n",
       "      <td>supplier2</td>\n",
       "    </tr>\n",
       "    <tr>\n",
       "      <th>1</th>\n",
       "      <td>S235JR</td>\n",
       "      <td>Material is Oiled</td>\n",
       "      <td>23040547</td>\n",
       "      <td>16984</td>\n",
       "      <td>41.0</td>\n",
       "      <td>False</td>\n",
       "      <td>supplier2</td>\n",
       "    </tr>\n",
       "    <tr>\n",
       "      <th>2</th>\n",
       "      <td>S235JR</td>\n",
       "      <td>Material is Painted</td>\n",
       "      <td>23046057</td>\n",
       "      <td>9162</td>\n",
       "      <td>28.0</td>\n",
       "      <td>False</td>\n",
       "      <td>supplier2</td>\n",
       "    </tr>\n",
       "    <tr>\n",
       "      <th>3</th>\n",
       "      <td>DX51D +AZ150</td>\n",
       "      <td>Material is Oiled</td>\n",
       "      <td>23041966</td>\n",
       "      <td>12119</td>\n",
       "      <td>66.0</td>\n",
       "      <td>False</td>\n",
       "      <td>supplier2</td>\n",
       "    </tr>\n",
       "    <tr>\n",
       "      <th>4</th>\n",
       "      <td>HDC</td>\n",
       "      <td>Material is Painted</td>\n",
       "      <td>23043884</td>\n",
       "      <td>17260</td>\n",
       "      <td>26.0</td>\n",
       "      <td>False</td>\n",
       "      <td>supplier2</td>\n",
       "    </tr>\n",
       "  </tbody>\n",
       "</table>\n",
       "</div>"
      ],
      "text/plain": [
       "       material          description  article_id  weight_kg  quantity  \\\n",
       "0           HDC    Material is Oiled    23048203      24469      52.0   \n",
       "1        S235JR    Material is Oiled    23040547      16984      41.0   \n",
       "2        S235JR  Material is Painted    23046057       9162      28.0   \n",
       "3  DX51D +AZ150    Material is Oiled    23041966      12119      66.0   \n",
       "4           HDC  Material is Painted    23043884      17260      26.0   \n",
       "\n",
       "   reserved data_source  \n",
       "0     False   supplier2  \n",
       "1     False   supplier2  \n",
       "2     False   supplier2  \n",
       "3     False   supplier2  \n",
       "4     False   supplier2  "
      ]
     },
     "execution_count": 20,
     "metadata": {},
     "output_type": "execute_result"
    }
   ],
   "source": [
    "raw_supplier2.head()"
   ]
  },
  {
   "cell_type": "code",
   "execution_count": 21,
   "id": "8fa12863",
   "metadata": {},
   "outputs": [
    {
     "name": "stdout",
     "output_type": "stream",
     "text": [
      "<class 'pandas.core.frame.DataFrame'>\n",
      "RangeIndex: 50 entries, 0 to 49\n",
      "Data columns (total 7 columns):\n",
      " #   Column       Non-Null Count  Dtype  \n",
      "---  ------       --------------  -----  \n",
      " 0   material     50 non-null     object \n",
      " 1   description  50 non-null     object \n",
      " 2   article_id   50 non-null     int64  \n",
      " 3   weight_kg    50 non-null     int64  \n",
      " 4   quantity     50 non-null     float64\n",
      " 5   reserved     50 non-null     bool   \n",
      " 6   data_source  50 non-null     object \n",
      "dtypes: bool(1), float64(1), int64(2), object(3)\n",
      "memory usage: 2.5+ KB\n"
     ]
    }
   ],
   "source": [
    "raw_supplier2.info()"
   ]
  },
  {
   "cell_type": "code",
   "execution_count": 22,
   "id": "4ee6a2e1",
   "metadata": {},
   "outputs": [
    {
     "name": "stdout",
     "output_type": "stream",
     "text": [
      "\n",
      "material (4 unique):\n",
      "['HDC' 'S235JR' 'DX51D +AZ150' 'DX51D +Z140']\n",
      "\n",
      "description (3 unique):\n",
      "['Material is Oiled' 'Material is Painted' 'Material is not Oiled']\n",
      "\n",
      "article_id (50 unique):\n",
      "[23048203 23040547 23046057 23041966 23043884 23048868 23046459 23043788\n",
      " 23044935 23049059 23047860 23047939 23047348 23045961 23042649 23048176\n",
      " 23043667 23046190 23044291 23046841 23041008 23041560 23043638 23041902\n",
      " 23049627 23044610 23049106 23048028 23045099 23046741 23047239 23049907\n",
      " 23044447 23047489 23040273 23040905 23043967 23045724 23049672 23049617\n",
      " 23043836 23049333 23041897 23040756 23041086 23047543 23045292 23047408\n",
      " 23043348 23043386]\n",
      "\n",
      "weight_kg (50 unique):\n",
      "[24469 16984  9162 12119 17260 23258 20994 22325 10571 12999 15862  9217\n",
      " 15881 23915 15741 15717 23967 21346 10389 18501 14277 24951 15121 17933\n",
      " 20304 20027 23131  6113  9037 24331 11898 21609 19165 18716  7025 14796\n",
      " 21149 16393 21321 22395  9355 10143 17001  6034 15230  9940 23884  5302\n",
      " 16927 11191]\n",
      "\n",
      "quantity (38 unique):\n",
      "[52. 41. 28. 66. 26. 60. 93. 73. 95. 59. 72. 36. 30. 71. 54. 10. 58. 22.\n",
      " 94. 33. 98. 12. 82. 96. 34. 29. 78. 31. 21. 67. 64. 76. 62. 68. 50. 51.\n",
      " 69. 75.]\n",
      "\n",
      "reserved (1 unique):\n",
      "[False]\n",
      "\n",
      "data_source (1 unique):\n",
      "['supplier2']\n"
     ]
    }
   ],
   "source": [
    "#unique values per column in supplier1\n",
    "for col in raw_supplier2.columns:\n",
    "    print(f\"\\n{col} ({raw_supplier2[col].nunique(dropna=False)} unique):\")\n",
    "    print(raw_supplier2[col].unique())"
   ]
  },
  {
   "cell_type": "code",
   "execution_count": 23,
   "id": "e7230f32",
   "metadata": {},
   "outputs": [
    {
     "name": "stdout",
     "output_type": "stream",
     "text": [
      "Supplier1 columns: ['quality', 'grade', 'finish', 'thickness_mm', 'width_mm', 'description', 'weight_kg', 'rp02', 'rm', 'quantity', 'ag', 'ai', 'data_source']\n",
      "Supplier2 columns: ['material', 'description', 'article_id', 'weight_kg', 'quantity', 'reserved', 'data_source']\n"
     ]
    }
   ],
   "source": [
    "print(\"Supplier1 columns:\", list(raw_supplier1.columns))\n",
    "print(\"Supplier2 columns:\", list(raw_supplier2.columns))"
   ]
  },
  {
   "cell_type": "code",
   "execution_count": 24,
   "id": "c28354ae",
   "metadata": {},
   "outputs": [
    {
     "name": "stdout",
     "output_type": "stream",
     "text": [
      "shape of supplier1: (50, 13)\n",
      "shape of supplier2: (50, 7)\n"
     ]
    }
   ],
   "source": [
    "print(\"shape of supplier1:\", raw_supplier1.shape)\n",
    "print(\"shape of supplier2:\", raw_supplier2.shape)"
   ]
  },
  {
   "cell_type": "markdown",
   "id": "4f4471d1",
   "metadata": {},
   "source": [
    "# combining the dataframes "
   ]
  },
  {
   "cell_type": "code",
   "execution_count": 25,
   "id": "68ebf3c1",
   "metadata": {},
   "outputs": [],
   "source": [
    "# Define common columns\n",
    "common_columns = [\n",
    "    \"material\", \"grade\", \"finish\",\n",
    "    \"thickness_mm\", \"width_mm\", \"description\", \"weight_kg\",\n",
    "    \"quantity\", \"source\"\n",
    "]\n",
    "\n",
    "# Add missing columns to supplier1\n",
    "raw_supplier1[\"material\"] = np.nan\n",
    "raw_supplier1[\"reserved\"] = np.nan\n",
    "raw_supplier1[\"source\"] = \"supplier1\"\n",
    "\n",
    "# Step 3: Add missing columns to supplier2\n",
    "raw_supplier2[\"grade\"] = np.nan\n",
    "raw_supplier2[\"finish\"] = np.nan\n",
    "raw_supplier2[\"thickness_mm\"] = np.nan\n",
    "raw_supplier2[\"width_mm\"] = np.nan\n",
    "raw_supplier2[\"source\"] = \"supplier2\"\n",
    "\n",
    "# Reorder both DataFrames\n",
    "supplier1 = raw_supplier1[common_columns]\n",
    "supplier2 = raw_supplier2[common_columns]\n",
    "\n",
    "# Combine them into one dataset\n",
    "raw_inventory_dataset = pd.concat([supplier1, supplier2], ignore_index=True)"
   ]
  },
  {
   "cell_type": "code",
   "execution_count": 26,
   "id": "d288b470",
   "metadata": {},
   "outputs": [],
   "source": [
    "final_columns = [\n",
    "    \"material\", \"grade\", \"finish\", \"thickness_mm\", \"width_mm\",\n",
    "    \"description\", \"weight_kg\", \"quantity\", \"source\"\n",
    "]\n",
    "\n",
    "inventory_dataset = raw_inventory_dataset[final_columns]"
   ]
  },
  {
   "cell_type": "code",
   "execution_count": 27,
   "id": "6911eb55",
   "metadata": {},
   "outputs": [
    {
     "name": "stdout",
     "output_type": "stream",
     "text": [
      "material        50.0\n",
      "grade           50.0\n",
      "finish          50.0\n",
      "thickness_mm    50.0\n",
      "width_mm        50.0\n",
      "description      0.0\n",
      "weight_kg        0.0\n",
      "quantity         0.0\n",
      "source           0.0\n",
      "dtype: float64\n"
     ]
    }
   ],
   "source": [
    "# Percentage of missing values per column\n",
    "missing_percentage = inventory_dataset.isnull().sum() * 100 / len(inventory_dataset)\n",
    "\n",
    "# Display\n",
    "print(missing_percentage.sort_values(ascending=False))\n"
   ]
  },
  {
   "cell_type": "code",
   "execution_count": null,
   "id": "1d8abb45",
   "metadata": {},
   "outputs": [],
   "source": [
    "# Fill all missing values explicitly with NaN\n",
    "inventory_dataset = inventory_dataset.fillna(np.nan)"
   ]
  },
  {
   "cell_type": "code",
   "execution_count": 29,
   "id": "b64a5a80",
   "metadata": {},
   "outputs": [
    {
     "data": {
      "application/vnd.microsoft.datawrangler.viewer.v0+json": {
       "columns": [
        {
         "name": "index",
         "rawType": "int64",
         "type": "integer"
        },
        {
         "name": "material",
         "rawType": "object",
         "type": "unknown"
        },
        {
         "name": "grade",
         "rawType": "object",
         "type": "unknown"
        },
        {
         "name": "finish",
         "rawType": "object",
         "type": "unknown"
        },
        {
         "name": "thickness_mm",
         "rawType": "float64",
         "type": "float"
        },
        {
         "name": "width_mm",
         "rawType": "float64",
         "type": "float"
        },
        {
         "name": "description",
         "rawType": "object",
         "type": "string"
        },
        {
         "name": "weight_kg",
         "rawType": "int64",
         "type": "integer"
        },
        {
         "name": "quantity",
         "rawType": "float64",
         "type": "float"
        },
        {
         "name": "source",
         "rawType": "object",
         "type": "string"
        }
       ],
       "ref": "e1aa6c55-6d7d-4174-b247-c1909c06b2da",
       "rows": [
        [
         "0",
         null,
         "C200S",
         "gebeizt und geglüht",
         "2.77",
         "1100.0",
         "Längs- oder Querisse",
         "13983",
         "0.0",
         "supplier1"
        ],
        [
         "1",
         null,
         "C300S",
         "ungebeizt",
         "2.65",
         "1075.0",
         "Längs- oder Querisse",
         "13047",
         "0.0",
         "supplier1"
        ],
        [
         "2",
         null,
         "C100S",
         "gebeizt und geglüht",
         "2.2",
         "1100.0",
         "Kantenfehler - FS-Kantenrisse",
         "14155",
         "10.84",
         "supplier1"
        ],
        [
         "3",
         null,
         "C100S",
         "gebeizt",
         "2.86",
         "1100.0",
         "Längs- oder Querisse",
         "11381",
         "22.87",
         "supplier1"
        ],
        [
         "4",
         null,
         "C300S",
         "ungebeizt",
         "2.88",
         "1050.0",
         "Sollmasse (Gewicht) unterschritten",
         "10072",
         "22.87",
         "supplier1"
        ],
        [
         "5",
         null,
         "C200S",
         "gebeizt",
         "2.51",
         "1000.0",
         "Längs- oder Querisse",
         "12863",
         "0.0",
         "supplier1"
        ],
        [
         "6",
         null,
         "C100S",
         "gebeizt",
         "2.69",
         "1150.0",
         "Sollmasse (Gewicht) unterschritten",
         "8936",
         "10.84",
         "supplier1"
        ],
        [
         "7",
         null,
         "C300S",
         "gebeizt und geglüht",
         "2.98",
         "1000.0",
         "Sollmasse (Gewicht) unterschritten",
         "9810",
         "22.87",
         "supplier1"
        ],
        [
         "8",
         null,
         "C200S",
         "gebeizt",
         "2.03",
         "1050.0",
         "Längs- oder Querisse",
         "5491",
         "22.87",
         "supplier1"
        ],
        [
         "9",
         null,
         "C300S",
         "gebeizt",
         "2.54",
         "1050.0",
         "Längs- oder Querisse",
         "11415",
         "0.0",
         "supplier1"
        ],
        [
         "10",
         null,
         "C100S",
         "gebeizt und geglüht",
         "2.31",
         "1050.0",
         "Kantenfehler - FS-Kantenrisse",
         "14758",
         "0.0",
         "supplier1"
        ],
        [
         "11",
         null,
         "C100S",
         "ungebeizt",
         "2.55",
         "1050.0",
         "Sollmasse (Gewicht) unterschritten",
         "13400",
         "0.0",
         "supplier1"
        ],
        [
         "12",
         null,
         "C100S",
         "gebeizt und geglüht",
         "2.52",
         "1100.0",
         "Längs- oder Querisse",
         "12787",
         "25.46",
         "supplier1"
        ],
        [
         "13",
         null,
         "C200S",
         "ungebeizt",
         "2.46",
         "1000.0",
         "Sollmasse (Gewicht) unterschritten",
         "8391",
         "22.87",
         "supplier1"
        ],
        [
         "14",
         null,
         "C100S",
         "gebeizt und geglüht",
         "2.74",
         "1100.0",
         "Längs- oder Querisse",
         "10409",
         "10.84",
         "supplier1"
        ],
        [
         "15",
         null,
         "C100S",
         "gebeizt",
         "2.27",
         "1150.0",
         "Sollmasse (Gewicht) unterschritten",
         "5951",
         "0.0",
         "supplier1"
        ],
        [
         "16",
         null,
         "C300S",
         "ungebeizt",
         "2.08",
         "1150.0",
         "Kantenfehler - FS-Kantenrisse",
         "8240",
         "22.87",
         "supplier1"
        ],
        [
         "17",
         null,
         "C300S",
         "gebeizt und geglüht",
         "2.29",
         "1050.0",
         "Längs- oder Querisse",
         "14139",
         "22.87",
         "supplier1"
        ],
        [
         "18",
         null,
         "C100S",
         "ungebeizt",
         "2.19",
         "1050.0",
         "Längs- oder Querisse",
         "7304",
         "10.84",
         "supplier1"
        ],
        [
         "19",
         null,
         "C100S",
         "gebeizt und geglüht",
         "2.14",
         "1000.0",
         "Kantenfehler - FS-Kantenrisse",
         "13518",
         "22.87",
         "supplier1"
        ],
        [
         "20",
         null,
         "C100S",
         "gebeizt",
         "2.84",
         "1150.0",
         "Längs- oder Querisse",
         "12010",
         "10.84",
         "supplier1"
        ],
        [
         "21",
         null,
         "C200S",
         "gebeizt und geglüht",
         "2.88",
         "1050.0",
         "Sollmasse (Gewicht) unterschritten",
         "6665",
         "0.0",
         "supplier1"
        ],
        [
         "22",
         null,
         "C100S",
         "gebeizt und geglüht",
         "2.51",
         "1050.0",
         "Längs- oder Querisse",
         "14839",
         "0.0",
         "supplier1"
        ],
        [
         "23",
         null,
         "C200S",
         "gebeizt",
         "2.22",
         "1050.0",
         "Längs- oder Querisse",
         "10959",
         "22.87",
         "supplier1"
        ],
        [
         "24",
         null,
         "C200S",
         "ungebeizt",
         "2.83",
         "1100.0",
         "Sollmasse (Gewicht) unterschritten",
         "14688",
         "0.0",
         "supplier1"
        ],
        [
         "25",
         null,
         "C300S",
         "gebeizt",
         "2.32",
         "1150.0",
         "Längs- oder Querisse",
         "5979",
         "25.46",
         "supplier1"
        ],
        [
         "26",
         null,
         "C100S",
         "gebeizt und geglüht",
         "2.48",
         "1050.0",
         "Kantenfehler - FS-Kantenrisse",
         "10499",
         "10.84",
         "supplier1"
        ],
        [
         "27",
         null,
         "C300S",
         "gebeizt und geglüht",
         "2.21",
         "1100.0",
         "Sollmasse (Gewicht) unterschritten",
         "10723",
         "25.46",
         "supplier1"
        ],
        [
         "28",
         null,
         "C100S",
         "ungebeizt",
         "2.75",
         "1100.0",
         "Längs- oder Querisse",
         "10262",
         "10.84",
         "supplier1"
        ],
        [
         "29",
         null,
         "C200S",
         "gebeizt",
         "2.75",
         "1075.0",
         "Kantenfehler - FS-Kantenrisse",
         "8118",
         "0.0",
         "supplier1"
        ],
        [
         "30",
         null,
         "C100S",
         "ungebeizt",
         "2.89",
         "1075.0",
         "Sollmasse (Gewicht) unterschritten",
         "5011",
         "10.84",
         "supplier1"
        ],
        [
         "31",
         null,
         "C100S",
         "gebeizt und geglüht",
         "2.32",
         "1150.0",
         "Sollmasse (Gewicht) unterschritten",
         "8410",
         "25.46",
         "supplier1"
        ],
        [
         "32",
         null,
         "C300S",
         "gebeizt",
         "2.53",
         "1100.0",
         "Längs- oder Querisse",
         "5124",
         "25.46",
         "supplier1"
        ],
        [
         "33",
         null,
         "C100S",
         "gebeizt und geglüht",
         "2.18",
         "1075.0",
         "Sollmasse (Gewicht) unterschritten",
         "12071",
         "25.46",
         "supplier1"
        ],
        [
         "34",
         null,
         "C100S",
         "gebeizt",
         "2.75",
         "1000.0",
         "Kantenfehler - FS-Kantenrisse",
         "13321",
         "10.84",
         "supplier1"
        ],
        [
         "35",
         null,
         "C300S",
         "ungebeizt",
         "2.43",
         "1000.0",
         "Längs- oder Querisse",
         "7968",
         "0.0",
         "supplier1"
        ],
        [
         "36",
         null,
         "C300S",
         "gebeizt",
         "2.82",
         "1050.0",
         "Kantenfehler - FS-Kantenrisse",
         "12702",
         "22.87",
         "supplier1"
        ],
        [
         "37",
         null,
         "C200S",
         "gebeizt und geglüht",
         "2.8",
         "1050.0",
         "Kantenfehler - FS-Kantenrisse",
         "5915",
         "0.0",
         "supplier1"
        ],
        [
         "38",
         null,
         "C100S",
         "gebeizt",
         "2.01",
         "1050.0",
         "Längs- oder Querisse",
         "8047",
         "22.87",
         "supplier1"
        ],
        [
         "39",
         null,
         "C300S",
         "ungebeizt",
         "2.3",
         "1000.0",
         "Längs- oder Querisse",
         "7772",
         "25.46",
         "supplier1"
        ],
        [
         "40",
         null,
         "C200S",
         "ungebeizt",
         "2.12",
         "1075.0",
         "Längs- oder Querisse",
         "9995",
         "10.84",
         "supplier1"
        ],
        [
         "41",
         null,
         "C100S",
         "gebeizt und geglüht",
         "2.37",
         "1075.0",
         "Kantenfehler - FS-Kantenrisse",
         "9774",
         "10.84",
         "supplier1"
        ],
        [
         "42",
         null,
         "C100S",
         "gebeizt und geglüht",
         "2.43",
         "1150.0",
         "Sollmasse (Gewicht) unterschritten",
         "11360",
         "22.87",
         "supplier1"
        ],
        [
         "43",
         null,
         "C100S",
         "ungebeizt",
         "2.08",
         "1100.0",
         "Längs- oder Querisse",
         "8261",
         "22.87",
         "supplier1"
        ],
        [
         "44",
         null,
         "C100S",
         "gebeizt und geglüht",
         "2.75",
         "1050.0",
         "Kantenfehler - FS-Kantenrisse",
         "9110",
         "22.87",
         "supplier1"
        ],
        [
         "45",
         null,
         "C300S",
         "ungebeizt",
         "2.72",
         "1150.0",
         "Längs- oder Querisse",
         "13667",
         "10.84",
         "supplier1"
        ],
        [
         "46",
         null,
         "C100S",
         "gebeizt und geglüht",
         "2.74",
         "1000.0",
         "Längs- oder Querisse",
         "6947",
         "22.87",
         "supplier1"
        ],
        [
         "47",
         null,
         "C100S",
         "gebeizt",
         "2.48",
         "1150.0",
         "Sollmasse (Gewicht) unterschritten",
         "8786",
         "0.0",
         "supplier1"
        ],
        [
         "48",
         null,
         "C300S",
         "gebeizt",
         "2.48",
         "1150.0",
         "Sollmasse (Gewicht) unterschritten",
         "14311",
         "25.46",
         "supplier1"
        ],
        [
         "49",
         null,
         "C100S",
         "gebeizt",
         "2.79",
         "1050.0",
         "Sollmasse (Gewicht) unterschritten",
         "8048",
         "0.0",
         "supplier1"
        ]
       ],
       "shape": {
        "columns": 9,
        "rows": 100
       }
      },
      "text/html": [
       "<div>\n",
       "<style scoped>\n",
       "    .dataframe tbody tr th:only-of-type {\n",
       "        vertical-align: middle;\n",
       "    }\n",
       "\n",
       "    .dataframe tbody tr th {\n",
       "        vertical-align: top;\n",
       "    }\n",
       "\n",
       "    .dataframe thead th {\n",
       "        text-align: right;\n",
       "    }\n",
       "</style>\n",
       "<table border=\"1\" class=\"dataframe\">\n",
       "  <thead>\n",
       "    <tr style=\"text-align: right;\">\n",
       "      <th></th>\n",
       "      <th>material</th>\n",
       "      <th>grade</th>\n",
       "      <th>finish</th>\n",
       "      <th>thickness_mm</th>\n",
       "      <th>width_mm</th>\n",
       "      <th>description</th>\n",
       "      <th>weight_kg</th>\n",
       "      <th>quantity</th>\n",
       "      <th>source</th>\n",
       "    </tr>\n",
       "  </thead>\n",
       "  <tbody>\n",
       "    <tr>\n",
       "      <th>0</th>\n",
       "      <td>NaN</td>\n",
       "      <td>C200S</td>\n",
       "      <td>gebeizt und geglüht</td>\n",
       "      <td>2.77</td>\n",
       "      <td>1100.0</td>\n",
       "      <td>Längs- oder Querisse</td>\n",
       "      <td>13983</td>\n",
       "      <td>0.00</td>\n",
       "      <td>supplier1</td>\n",
       "    </tr>\n",
       "    <tr>\n",
       "      <th>1</th>\n",
       "      <td>NaN</td>\n",
       "      <td>C300S</td>\n",
       "      <td>ungebeizt</td>\n",
       "      <td>2.65</td>\n",
       "      <td>1075.0</td>\n",
       "      <td>Längs- oder Querisse</td>\n",
       "      <td>13047</td>\n",
       "      <td>0.00</td>\n",
       "      <td>supplier1</td>\n",
       "    </tr>\n",
       "    <tr>\n",
       "      <th>2</th>\n",
       "      <td>NaN</td>\n",
       "      <td>C100S</td>\n",
       "      <td>gebeizt und geglüht</td>\n",
       "      <td>2.20</td>\n",
       "      <td>1100.0</td>\n",
       "      <td>Kantenfehler - FS-Kantenrisse</td>\n",
       "      <td>14155</td>\n",
       "      <td>10.84</td>\n",
       "      <td>supplier1</td>\n",
       "    </tr>\n",
       "    <tr>\n",
       "      <th>3</th>\n",
       "      <td>NaN</td>\n",
       "      <td>C100S</td>\n",
       "      <td>gebeizt</td>\n",
       "      <td>2.86</td>\n",
       "      <td>1100.0</td>\n",
       "      <td>Längs- oder Querisse</td>\n",
       "      <td>11381</td>\n",
       "      <td>22.87</td>\n",
       "      <td>supplier1</td>\n",
       "    </tr>\n",
       "    <tr>\n",
       "      <th>4</th>\n",
       "      <td>NaN</td>\n",
       "      <td>C300S</td>\n",
       "      <td>ungebeizt</td>\n",
       "      <td>2.88</td>\n",
       "      <td>1050.0</td>\n",
       "      <td>Sollmasse (Gewicht) unterschritten</td>\n",
       "      <td>10072</td>\n",
       "      <td>22.87</td>\n",
       "      <td>supplier1</td>\n",
       "    </tr>\n",
       "    <tr>\n",
       "      <th>...</th>\n",
       "      <td>...</td>\n",
       "      <td>...</td>\n",
       "      <td>...</td>\n",
       "      <td>...</td>\n",
       "      <td>...</td>\n",
       "      <td>...</td>\n",
       "      <td>...</td>\n",
       "      <td>...</td>\n",
       "      <td>...</td>\n",
       "    </tr>\n",
       "    <tr>\n",
       "      <th>95</th>\n",
       "      <td>DX51D +Z140</td>\n",
       "      <td>NaN</td>\n",
       "      <td>NaN</td>\n",
       "      <td>NaN</td>\n",
       "      <td>NaN</td>\n",
       "      <td>Material is not Oiled</td>\n",
       "      <td>9940</td>\n",
       "      <td>96.00</td>\n",
       "      <td>supplier2</td>\n",
       "    </tr>\n",
       "    <tr>\n",
       "      <th>96</th>\n",
       "      <td>DX51D +AZ150</td>\n",
       "      <td>NaN</td>\n",
       "      <td>NaN</td>\n",
       "      <td>NaN</td>\n",
       "      <td>NaN</td>\n",
       "      <td>Material is Painted</td>\n",
       "      <td>23884</td>\n",
       "      <td>51.00</td>\n",
       "      <td>supplier2</td>\n",
       "    </tr>\n",
       "    <tr>\n",
       "      <th>97</th>\n",
       "      <td>S235JR</td>\n",
       "      <td>NaN</td>\n",
       "      <td>NaN</td>\n",
       "      <td>NaN</td>\n",
       "      <td>NaN</td>\n",
       "      <td>Material is Oiled</td>\n",
       "      <td>5302</td>\n",
       "      <td>12.00</td>\n",
       "      <td>supplier2</td>\n",
       "    </tr>\n",
       "    <tr>\n",
       "      <th>98</th>\n",
       "      <td>DX51D +Z140</td>\n",
       "      <td>NaN</td>\n",
       "      <td>NaN</td>\n",
       "      <td>NaN</td>\n",
       "      <td>NaN</td>\n",
       "      <td>Material is Oiled</td>\n",
       "      <td>16927</td>\n",
       "      <td>69.00</td>\n",
       "      <td>supplier2</td>\n",
       "    </tr>\n",
       "    <tr>\n",
       "      <th>99</th>\n",
       "      <td>HDC</td>\n",
       "      <td>NaN</td>\n",
       "      <td>NaN</td>\n",
       "      <td>NaN</td>\n",
       "      <td>NaN</td>\n",
       "      <td>Material is not Oiled</td>\n",
       "      <td>11191</td>\n",
       "      <td>75.00</td>\n",
       "      <td>supplier2</td>\n",
       "    </tr>\n",
       "  </tbody>\n",
       "</table>\n",
       "<p>100 rows × 9 columns</p>\n",
       "</div>"
      ],
      "text/plain": [
       "        material  grade               finish  thickness_mm  width_mm  \\\n",
       "0            NaN  C200S  gebeizt und geglüht          2.77    1100.0   \n",
       "1            NaN  C300S            ungebeizt          2.65    1075.0   \n",
       "2            NaN  C100S  gebeizt und geglüht          2.20    1100.0   \n",
       "3            NaN  C100S              gebeizt          2.86    1100.0   \n",
       "4            NaN  C300S            ungebeizt          2.88    1050.0   \n",
       "..           ...    ...                  ...           ...       ...   \n",
       "95   DX51D +Z140    NaN                  NaN           NaN       NaN   \n",
       "96  DX51D +AZ150    NaN                  NaN           NaN       NaN   \n",
       "97        S235JR    NaN                  NaN           NaN       NaN   \n",
       "98   DX51D +Z140    NaN                  NaN           NaN       NaN   \n",
       "99           HDC    NaN                  NaN           NaN       NaN   \n",
       "\n",
       "                           description  weight_kg  quantity     source  \n",
       "0                 Längs- oder Querisse      13983      0.00  supplier1  \n",
       "1                 Längs- oder Querisse      13047      0.00  supplier1  \n",
       "2        Kantenfehler - FS-Kantenrisse      14155     10.84  supplier1  \n",
       "3                 Längs- oder Querisse      11381     22.87  supplier1  \n",
       "4   Sollmasse (Gewicht) unterschritten      10072     22.87  supplier1  \n",
       "..                                 ...        ...       ...        ...  \n",
       "95               Material is not Oiled       9940     96.00  supplier2  \n",
       "96                 Material is Painted      23884     51.00  supplier2  \n",
       "97                   Material is Oiled       5302     12.00  supplier2  \n",
       "98                   Material is Oiled      16927     69.00  supplier2  \n",
       "99               Material is not Oiled      11191     75.00  supplier2  \n",
       "\n",
       "[100 rows x 9 columns]"
      ]
     },
     "execution_count": 29,
     "metadata": {},
     "output_type": "execute_result"
    }
   ],
   "source": [
    "inventory_dataset"
   ]
  },
  {
   "cell_type": "code",
   "execution_count": 30,
   "id": "90b75b09",
   "metadata": {},
   "outputs": [
    {
     "name": "stdout",
     "output_type": "stream",
     "text": [
      "Saved to: C:\\Users\\black\\vanilla-steel-assessment\\output\\inventory_dataset.csv\n"
     ]
    }
   ],
   "source": [
    "from pathlib import Path\n",
    "\n",
    "# Start from current notebook location\n",
    "notebook_dir = Path().resolve()\n",
    "\n",
    "# Go up two levels (from scripts/notebooks/ to project root)\n",
    "project_root = notebook_dir.parents[1]\n",
    "\n",
    "# Define output folder at top-level\n",
    "output_dir = project_root / \"output\"\n",
    "output_dir.mkdir(parents=True, exist_ok=True)\n",
    "\n",
    "# Save file\n",
    "inventory_dataset.to_csv(output_dir / \"inventory_dataset.csv\", index=False)\n",
    "print(f\"Saved to: {output_dir / 'inventory_dataset.csv'}\")"
   ]
  }
 ],
 "metadata": {
  "kernelspec": {
   "display_name": "venv",
   "language": "python",
   "name": "python3"
  },
  "language_info": {
   "codemirror_mode": {
    "name": "ipython",
    "version": 3
   },
   "file_extension": ".py",
   "mimetype": "text/x-python",
   "name": "python",
   "nbconvert_exporter": "python",
   "pygments_lexer": "ipython3",
   "version": "3.13.5"
  }
 },
 "nbformat": 4,
 "nbformat_minor": 5
}
